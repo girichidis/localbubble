{
 "cells": [
  {
   "cell_type": "code",
   "execution_count": 5,
   "id": "15fafd57",
   "metadata": {},
   "outputs": [],
   "source": [
    "import yt\n",
    "import numpy as np\n",
    "from astropy import units as u, constants  as c\n",
    "\n",
    "pc = c.pc.cgs.value\n",
    "kB  = c.k_B.cgs.value\n",
    "Msun = c.M_sun.cgs.value\n",
    "G = c.G.cgs.value\n",
    "Myr = u.Myr.in_units(\"s\")"
   ]
  },
  {
   "cell_type": "code",
   "execution_count": 7,
   "id": "2a0663fc",
   "metadata": {},
   "outputs": [
    {
     "name": "stderr",
     "output_type": "stream",
     "text": [
      "yt : [INFO     ] 2025-02-19 11:15:20,439 Parameters: current_time              = 0.0\n",
      "yt : [INFO     ] 2025-02-19 11:15:20,440 Parameters: domain_dimensions         = [8 8 8]\n",
      "yt : [INFO     ] 2025-02-19 11:15:20,442 Parameters: domain_left_edge          = [-7.715e+20 -7.715e+20 -7.715e+20]\n",
      "yt : [INFO     ] 2025-02-19 11:15:20,443 Parameters: domain_right_edge         = [7.715e+20 7.715e+20 7.715e+20]\n",
      "yt : [INFO     ] 2025-02-19 11:15:20,443 Parameters: cosmological_simulation   = 0\n",
      "yt : [INFO     ] 2025-02-19 11:15:21,574 xlim = -771500000000000000000.000000 771500000000000000000.000000\n",
      "yt : [INFO     ] 2025-02-19 11:15:21,574 ylim = -771500000000000000000.000000 771500000000000000000.000000\n",
      "yt : [INFO     ] 2025-02-19 11:15:21,574 xlim = -771500000000000000000.000000 771500000000000000000.000000\n",
      "yt : [INFO     ] 2025-02-19 11:15:21,575 ylim = -771500000000000000000.000000 771500000000000000000.000000\n",
      "yt : [INFO     ] 2025-02-19 11:15:21,576 Making a fixed resolution buffer of (('gas', 'density')) 800 by 800\n",
      "yt : [INFO     ] 2025-02-19 11:15:21,735 Saving plot SILCC_hdf5_plt_cnt_0000_Slice_x_density.png\n",
      "yt : [INFO     ] 2025-02-19 11:15:21,907 xlim = -771500000000000000000.000000 771500000000000000000.000000\n",
      "yt : [INFO     ] 2025-02-19 11:15:21,908 ylim = -771500000000000000000.000000 771500000000000000000.000000\n",
      "yt : [INFO     ] 2025-02-19 11:15:21,908 xlim = -771500000000000000000.000000 771500000000000000000.000000\n",
      "yt : [INFO     ] 2025-02-19 11:15:21,908 ylim = -771500000000000000000.000000 771500000000000000000.000000\n",
      "yt : [INFO     ] 2025-02-19 11:15:21,909 Making a fixed resolution buffer of (('gas', 'density')) 800 by 800\n",
      "yt : [INFO     ] 2025-02-19 11:15:22,173 Saving plot SILCC_hdf5_plt_cnt_0000_Slice_y_density.png\n",
      "yt : [INFO     ] 2025-02-19 11:15:22,345 xlim = -771500000000000000000.000000 771500000000000000000.000000\n",
      "yt : [INFO     ] 2025-02-19 11:15:22,346 ylim = -771500000000000000000.000000 771500000000000000000.000000\n",
      "yt : [INFO     ] 2025-02-19 11:15:22,346 xlim = -771500000000000000000.000000 771500000000000000000.000000\n",
      "yt : [INFO     ] 2025-02-19 11:15:22,346 ylim = -771500000000000000000.000000 771500000000000000000.000000\n",
      "yt : [INFO     ] 2025-02-19 11:15:22,348 Making a fixed resolution buffer of (('gas', 'density')) 800 by 800\n",
      "yt : [INFO     ] 2025-02-19 11:15:22,510 Saving plot SILCC_hdf5_plt_cnt_0000_Slice_z_density.png\n"
     ]
    }
   ],
   "source": [
    "ds = yt.load(\"sim-files/SILCC_hdf5_plt_cnt_0000\")\n",
    "\n",
    "for d in [\"x\", \"y\", \"z\"]:\n",
    "    yt.SlicePlot(ds, d, (\"gas\", \"density\")).save()"
   ]
  },
  {
   "cell_type": "code",
   "execution_count": 15,
   "id": "ef4b4387",
   "metadata": {},
   "outputs": [
    {
     "data": {
      "text/plain": [
       "7242.97051603992"
      ]
     },
     "execution_count": 15,
     "metadata": {},
     "output_type": "execute_result"
    }
   ],
   "source": [
    "# convert pressure from dyne to P/k\n",
    "1e-12 / kB"
   ]
  },
  {
   "cell_type": "code",
   "execution_count": 12,
   "id": "5548c211",
   "metadata": {},
   "outputs": [
    {
     "name": "stderr",
     "output_type": "stream",
     "text": [
      "yt : [INFO     ] 2025-02-19 11:24:35,671 Parameters: current_time              = 340597785179995.1\n",
      "yt : [INFO     ] 2025-02-19 11:24:35,673 Parameters: domain_dimensions         = [8 8 8]\n",
      "yt : [INFO     ] 2025-02-19 11:24:35,674 Parameters: domain_left_edge          = [-7.715e+20 -7.715e+20 -7.715e+20]\n",
      "yt : [INFO     ] 2025-02-19 11:24:35,675 Parameters: domain_right_edge         = [7.715e+20 7.715e+20 7.715e+20]\n",
      "yt : [INFO     ] 2025-02-19 11:24:35,675 Parameters: cosmological_simulation   = 0\n",
      "yt : [INFO     ] 2025-02-19 11:24:42,911 xlim = -1234351637223705149440.000000 308648362776294916096.000000\n",
      "yt : [INFO     ] 2025-02-19 11:24:42,912 ylim = -771500000000000000000.000000 771500000000000000000.000000\n",
      "yt : [INFO     ] 2025-02-19 11:24:42,912 xlim = -1234351637223705149440.000000 308648362776294916096.000000\n",
      "yt : [INFO     ] 2025-02-19 11:24:42,913 ylim = -771500000000000000000.000000 771500000000000000000.000000\n",
      "yt : [INFO     ] 2025-02-19 11:24:42,914 Making a fixed resolution buffer of (('gas', 'pressure')) 800 by 800\n",
      "yt : [INFO     ] 2025-02-19 11:24:43,183 Saving plot SILCC_hdf5_plt_cnt_1080_Slice_x_pressure.png\n",
      "yt : [INFO     ] 2025-02-19 11:24:43,521 xlim = -771500000000000000000.000000 771500000000000000000.000000\n",
      "yt : [INFO     ] 2025-02-19 11:24:43,521 ylim = -1018354206519309369344.000000 524645793480690630656.000000\n",
      "yt : [INFO     ] 2025-02-19 11:24:43,522 xlim = -771500000000000000000.000000 771500000000000000000.000000\n",
      "yt : [INFO     ] 2025-02-19 11:24:43,522 ylim = -1018354206519309369344.000000 524645793480690630656.000000\n",
      "yt : [INFO     ] 2025-02-19 11:24:43,523 Making a fixed resolution buffer of (('gas', 'pressure')) 800 by 800\n",
      "yt : [INFO     ] 2025-02-19 11:24:43,772 Saving plot SILCC_hdf5_plt_cnt_1080_Slice_y_pressure.png\n",
      "yt : [INFO     ] 2025-02-19 11:24:44,462 xlim = -1018354206519309369344.000000 524645793480690630656.000000\n",
      "yt : [INFO     ] 2025-02-19 11:24:44,462 ylim = -1234351637223705149440.000000 308648362776294916096.000000\n",
      "yt : [INFO     ] 2025-02-19 11:24:44,463 xlim = -1018354206519309369344.000000 524645793480690630656.000000\n",
      "yt : [INFO     ] 2025-02-19 11:24:44,463 ylim = -1234351637223705149440.000000 308648362776294916096.000000\n",
      "yt : [INFO     ] 2025-02-19 11:24:44,465 Making a fixed resolution buffer of (('gas', 'pressure')) 800 by 800\n",
      "yt : [INFO     ] 2025-02-19 11:24:44,961 Saving plot SILCC_hdf5_plt_cnt_1080_Slice_z_pressure.png\n"
     ]
    }
   ],
   "source": [
    "# bubble properties\n",
    "c = [-80*pc, -150*pc, 0*pc]\n",
    "ds = yt.load(\"sim-files/SILCC_hdf5_plt_cnt_1080\")\n",
    "\n",
    "for d in [\"x\", \"y\", \"z\"]:\n",
    "    slc = yt.SlicePlot(ds, d, (\"gas\", \"pressure\"), center=c).save()\n"
   ]
  },
  {
   "cell_type": "code",
   "execution_count": null,
   "id": "e5902fad",
   "metadata": {},
   "outputs": [],
   "source": []
  }
 ],
 "metadata": {
  "kernelspec": {
   "display_name": "Python 3",
   "language": "python",
   "name": "python3"
  },
  "language_info": {
   "codemirror_mode": {
    "name": "ipython",
    "version": 3
   },
   "file_extension": ".py",
   "mimetype": "text/x-python",
   "name": "python",
   "nbconvert_exporter": "python",
   "pygments_lexer": "ipython3",
   "version": "3.9.12"
  }
 },
 "nbformat": 4,
 "nbformat_minor": 5
}
