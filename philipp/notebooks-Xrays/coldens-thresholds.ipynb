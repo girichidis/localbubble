{
 "cells": [
  {
   "cell_type": "code",
   "execution_count": 7,
   "id": "c4a2f880",
   "metadata": {},
   "outputs": [
    {
     "name": "stdout",
     "output_type": "stream",
     "text": [
      "[5.01786577e-05 1.00357315e-04 1.67262192e-04 5.01786577e-04\n",
      " 1.00357315e-03 1.67262192e-03]\n",
      "3e+19 5.0178657710699996e-05\n",
      "6e+19 0.00010035731542139999\n",
      "1e+20 0.000167262192369\n",
      "3e+20 0.0005017865771069999\n",
      "6e+20 0.0010035731542139999\n",
      "1e+21 0.00167262192369\n"
     ]
    }
   ],
   "source": [
    "import numpy as np\n",
    "\n",
    "from astropy import units as u, constants  as c\n",
    "\n",
    "pc = c.pc.cgs.value\n",
    "kB  = c.k_B.cgs.value\n",
    "Msun = c.M_sun.cgs.value\n",
    "G = c.G.cgs.value\n",
    "Myr = u.Myr.in_units(\"s\")\n",
    "mp = c.m_p.cgs.value\n",
    "\n",
    "coldens = np.array([3e19, 6e19, 1e20, 3e20, 6e20, 1e21])\n",
    "print(coldens*mp)\n",
    "for cd in coldens:\n",
    "    print(cd, cd*mp)"
   ]
  },
  {
   "cell_type": "code",
   "execution_count": null,
   "id": "e33cc6ee",
   "metadata": {},
   "outputs": [],
   "source": []
  }
 ],
 "metadata": {
  "kernelspec": {
   "display_name": "Python 3",
   "language": "python",
   "name": "python3"
  },
  "language_info": {
   "codemirror_mode": {
    "name": "ipython",
    "version": 3
   },
   "file_extension": ".py",
   "mimetype": "text/x-python",
   "name": "python",
   "nbconvert_exporter": "python",
   "pygments_lexer": "ipython3",
   "version": "3.9.12"
  }
 },
 "nbformat": 4,
 "nbformat_minor": 5
}
