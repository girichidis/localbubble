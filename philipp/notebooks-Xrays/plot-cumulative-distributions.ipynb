{
 "cells": [
  {
   "cell_type": "code",
   "execution_count": 1,
   "id": "729d9d8b",
   "metadata": {},
   "outputs": [
    {
     "name": "stderr",
     "output_type": "stream",
     "text": [
      "<ipython-input-1-ef4fae5c924f>:5: MatplotlibDeprecationWarning: \n",
      "The mpl_toolkits.axes_grid module was deprecated in Matplotlib 2.1 and will be removed two minor releases later. Use mpl_toolkits.axes_grid1 and mpl_toolkits.axisartist, which provide the same functionality instead.\n",
      "  from mpl_toolkits.axes_grid.inset_locator import (inset_axes, InsetPosition,\n"
     ]
    }
   ],
   "source": [
    "import matplotlib.pyplot as plt\n",
    "import numpy as np\n",
    "import yt\n",
    "from field_definitions import _nuclei_density, _electron_density\n",
    "from mpl_toolkits.axes_grid.inset_locator import (inset_axes, InsetPosition,\n",
    "                                                  mark_inset)\n",
    "from astropy import units as u, constants  as const\n",
    "\n",
    "pc = const.pc.cgs.value\n",
    "kB  = const.k_B.cgs.value\n",
    "Msun = const.M_sun.cgs.value\n",
    "G = const.G.cgs.value\n",
    "Myr = u.Myr.in_units(\"s\")\n",
    "\n",
    "plt.rcParams.update({\n",
    "    \"text.usetex\": True,\n",
    "    \"font.family\": \"serif\",\n",
    "    \"text.latex.preamble\" : r'\\boldmath'\n",
    "})"
   ]
  },
  {
   "cell_type": "code",
   "execution_count": 2,
   "id": "4fc54940",
   "metadata": {},
   "outputs": [],
   "source": [
    "default_file = \"SILCC_hdf5_plt_cnt_1080\"\n",
    "\n",
    "# radius of the bubble and center\n",
    "radius=100\n",
    "# c = ([-80, -150, 0], \"pc\") # only new version of YT\n",
    "c = [-80*pc, -150*pc, 0*pc]"
   ]
  },
  {
   "cell_type": "code",
   "execution_count": 8,
   "id": "786d3774",
   "metadata": {},
   "outputs": [
    {
     "name": "stderr",
     "output_type": "stream",
     "text": [
      "yt : [INFO     ] 2025-02-21 11:14:20,386 Parameters: current_time              = 340597785179995.1\n",
      "yt : [INFO     ] 2025-02-21 11:14:20,387 Parameters: domain_dimensions         = [8 8 8]\n",
      "yt : [INFO     ] 2025-02-21 11:14:20,388 Parameters: domain_left_edge          = [-7.715e+20 -7.715e+20 -7.715e+20]\n",
      "yt : [INFO     ] 2025-02-21 11:14:20,389 Parameters: domain_right_edge         = [7.715e+20 7.715e+20 7.715e+20]\n",
      "yt : [INFO     ] 2025-02-21 11:14:20,390 Parameters: cosmological_simulation   = 0\n",
      "yt : [INFO     ] 2025-02-21 11:14:28,966 Loading emissivity data from /Users/girichidis/Physics/Tables/yt-python/cloudy_emissivity_v2.h5\n",
      "yt : [INFO     ] 2025-02-21 11:14:28,969 X-ray emissivity data calculated with Cloudy 13 rc1 on 12/10/2012 by Britton Smith.\n",
      "yt : [INFO     ] 2025-02-21 11:14:28,970 X-ray 'cloudy' emissivity data version: 2.\n",
      "yt : [INFO     ] 2025-02-21 11:14:28,980 Adding ('gas','xray_emissivity_0.1_2_keV') field.\n",
      "yt : [INFO     ] 2025-02-21 11:14:28,980 Adding ('gas','xray_luminosity_0.1_2_keV') field.\n",
      "yt : [INFO     ] 2025-02-21 11:14:28,981 Adding ('gas','xray_photon_emissivity_0.1_2_keV') field.\n",
      "yt : [INFO     ] 2025-02-21 11:14:31,285 Parameters: current_time              = 340597785179995.1\n",
      "yt : [INFO     ] 2025-02-21 11:14:31,285 Parameters: domain_dimensions         = [8 8 8]\n",
      "yt : [INFO     ] 2025-02-21 11:14:31,286 Parameters: domain_left_edge          = [-7.715e+20 -7.715e+20 -7.715e+20]\n",
      "yt : [INFO     ] 2025-02-21 11:14:31,287 Parameters: domain_right_edge         = [7.715e+20 7.715e+20 7.715e+20]\n",
      "yt : [INFO     ] 2025-02-21 11:14:31,287 Parameters: cosmological_simulation   = 0\n"
     ]
    },
    {
     "name": "stdout",
     "output_type": "stream",
     "text": [
      "0.6 0.002874711633686011 dimensionless\n",
      "0.7 0.0037707516439071612 dimensionless\n",
      "0.8 0.0051260427390393565 dimensionless\n",
      "0.9 0.007898896262853648 dimensionless\n",
      "0.95 0.013613847899161506 dimensionless\n",
      "0.99 0.08566667356113652 dimensionless\n"
     ]
    },
    {
     "name": "stderr",
     "output_type": "stream",
     "text": [
      "yt : [INFO     ] 2025-02-21 11:14:37,144 Loading emissivity data from /Users/girichidis/Physics/Tables/yt-python/apec_emissivity_v3.h5\n",
      "yt : [INFO     ] 2025-02-21 11:14:37,146 X-ray emissivity data calculated with APEC 3.0.9 on 11/19/2019 by John ZuHone.\n",
      "yt : [INFO     ] 2025-02-21 11:14:37,147 X-ray 'apec' emissivity data version: 3.\n",
      "yt : [INFO     ] 2025-02-21 11:14:37,156 Adding ('gas','xray_emissivity_0.1_2_keV') field.\n",
      "yt : [INFO     ] 2025-02-21 11:14:37,156 Adding ('gas','xray_luminosity_0.1_2_keV') field.\n",
      "yt : [INFO     ] 2025-02-21 11:14:37,157 Adding ('gas','xray_photon_emissivity_0.1_2_keV') field.\n"
     ]
    },
    {
     "name": "stdout",
     "output_type": "stream",
     "text": [
      "0.6 0.002805768371544398 dimensionless\n",
      "0.7 0.0036984724174683814 dimensionless\n",
      "0.8 0.004955463764643818 dimensionless\n",
      "0.9 0.007619342454749846 dimensionless\n",
      "0.95 0.012961778077874148 dimensionless\n",
      "0.99 0.07860755071065437 dimensionless\n"
     ]
    }
   ],
   "source": [
    "cum_vol = {}\n",
    "cum_lum = {}\n",
    "for table in [\"cloudy\", \"apec\"]:\n",
    "    ds = yt.load(\"sim-files/SILCC_hdf5_plt_cnt_1080\")\n",
    "    # register data fields\n",
    "    ds.add_field(('gas', 'H_nuclei_density'), _nuclei_density, sampling_type=\"local\", units=\"cm**(-3)\", force_override=True)\n",
    "    ds.add_field(('gas', 'El_number_density'), _nuclei_density, sampling_type=\"local\", units=\"cm**(-3)\", force_override=True)    \n",
    "    ds.add_field(('gas', 'electron_density'), _electron_density, sampling_type=\"local\", units=\"g*cm**(-3)\", force_override=True)\n",
    "\n",
    "    yt.add_xray_emissivity_field(ds, 0.1, 2, metallicity=1.0, \\\n",
    "                                 data_dir=\"/Users/girichidis/Physics/Tables/yt-python/\", table_type=table)\n",
    "\n",
    "    sphere = ds.sphere(c, (radius, \"pc\"))\n",
    "    x_lum = sphere[('gas', 'xray_luminosity_0.1_2_keV')]\n",
    "    vol = sphere[('gas', 'cell_volume')]\n",
    "\n",
    "    idx = np.argsort(x_lum)\n",
    "yt-pro\n",
    "        print(frac, cv[idx])\n",
    "    cum_vol[table] = cv\n",
    "    cum_lum[table] = cl"
   ]
  },
  {
   "cell_type": "code",
   "execution_count": 4,
   "id": "7bdc9a13",
   "metadata": {},
   "outputs": [
    {
     "data": {
      "image/png": "[encoded data removed]",
      "text/plain": [
       "<Figure size 360x396 with 2 Axes>"
      ]
     },
     "metadata": {
      "needs_background": "light"
     },
     "output_type": "display_data"
    }
   ],
   "source": [
    "fig, ax = plt.subplots(figsize=(5, 5.5))\n",
    "for table in [\"cloudy\", \"apec\"]:\n",
    "    ax.semilogy(cum_lum[table], cum_vol[table])\n",
    "ax.set_xlim(0, 1)\n",
    "ax.set_ylim(1e-4, 1)\n",
    "ax.set_xlabel('$L_X(f_V) / L_{X,\\\\mathrm{tot}}$')\n",
    "ax.set_ylabel('\\\\textbf{fraction of volume, }$f_V$')\n",
    "#ax.set_title('Sorted X-ray Luminosity vs Sorted Cell Volume')\n",
    "\n",
    "ax2 = plt.axes([0.6,1e-3,0.95,1e-2])\n",
    "# Manually set the position and relative size of the inset axes within ax1\n",
    "ip = InsetPosition(ax, [0.15,0.51,0.5,0.45])\n",
    "ax2.set_axes_locator(ip)\n",
    "# Mark the region corresponding to the inset axes on ax1 and draw lines\n",
    "# in grey linking the two axes.\n",
    "mark_inset(ax, ax2, loc1=1, loc2=3, fc=\"none\", ec='0.7')\n",
    "for table in [\"cloudy\", \"apec\"]:\n",
    "    ax2.semilogy(cum_lum[table], cum_vol[table])\n",
    "#ax2.semilogy(cum_lum, cum_vol)\n",
    "ax2.set_xlim(0.6, 0.95)\n",
    "ax2.set_ylim(2e-3, 1e-2)\n",
    "ax2.set_yticks([0.002, 0.003, 0.004, 0.005, 0.006, 0.01])\n",
    "ax2.set_yticklabels([\"$0.002$\", \"$0.003$\", \"$0.004$\", \"$0.005$\", \"$0.006$\", \"$0.01$\"])\n",
    "ax2.grid()\n",
    "\n",
    "plt.savefig('plots/cumulative-vol-Lx.pdf', format='pdf', bbox_inches='tight')"
   ]
  },
  {
   "cell_type": "code",
   "execution_count": null,
   "id": "38d8b874",
   "metadata": {},
   "outputs": [],
   "source": []
  }
 ],
 "metadata": {
  "kernelspec": {
   "display_name": "Python 3",
   "language": "python",
   "name": "python3"
  },
  "language_info": {
   "codemirror_mode": {
    "name": "ipython",
    "version": 3
   },
   "file_extension": ".py",
   "mimetype": "text/x-python",
   "name": "python",
   "nbconvert_exporter": "python",
   "pygments_lexer": "ipython3",
   "version": "3.9.12"
  }
 },
 "nbformat": 4,
 "nbformat_minor": 5
}
