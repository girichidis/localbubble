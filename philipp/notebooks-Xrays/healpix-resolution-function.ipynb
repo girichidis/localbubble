{
 "cells": [
  {
   "cell_type": "code",
   "execution_count": 1,
   "id": "1fde33c8",
   "metadata": {},
   "outputs": [
    {
     "name": "stderr",
     "output_type": "stream",
     "text": [
      "/Users/girichidis/Software/YT-2022-07-22/yt-conda/lib/python3.9/site-packages/scipy/__init__.py:146: UserWarning: A NumPy version >=1.16.5 and <1.23.0 is required for this version of SciPy (detected version 1.23.5\n",
      "  warnings.warn(f\"A NumPy version >={np_minversion} and <{np_maxversion}\"\n"
     ]
    }
   ],
   "source": [
    "import healpy as hp\n",
    "import numpy as np\n"
   ]
  },
  {
   "cell_type": "code",
   "execution_count": 8,
   "id": "0ff30bda",
   "metadata": {},
   "outputs": [],
   "source": [
    "def _omega(alpha):\n",
    "    return 2.*np.pi*(1.-np.cos(alpha*np.pi/180.))\n",
    "\n",
    "def _alpha(omega):\n",
    "    return 2.*np.arccos(1.-omega/(2.*np.pi))*180./np.pi"
   ]
  },
  {
   "cell_type": "code",
   "execution_count": 9,
   "id": "86f22714",
   "metadata": {},
   "outputs": [
    {
     "name": "stdout",
     "output_type": "stream",
     "text": [
      "Approximate resolution at nside 2 = npix 48 is 2.9e+01 deg 3.3e+01\n",
      "Approximate resolution at nside 4 = npix 192 is 1.5e+01 deg 1.7e+01\n",
      "Approximate resolution at nside 8 = npix 768 is 7.3 deg 8.3\n",
      "Approximate resolution at nside 16 = npix 3072 is 3.7 deg 4.1\n",
      "Approximate resolution at nside 32 = npix 12288 is 1.8 deg 2.1\n",
      "Approximate resolution at nside 64 = npix 49152 is 0.92 deg 1.0\n",
      "Approximate resolution at nside 128 = npix 196608 is 0.46 deg 0.52\n"
     ]
    }
   ],
   "source": [
    "for nside in [2,4,8,16,32,64,128]:\n",
    "    Npix = hp.nside2npix(nside)\n",
    "    dOmega = 4.*np.pi/float(Npix)\n",
    "    print(\n",
    "    \"Approximate resolution at nside {} = npix {} is {:.2} deg {:.2}\".format(\n",
    "        nside, Npix, hp.nside2resol(nside, arcmin=True) / 60, _alpha(dOmega)\n",
    "    )\n",
    ")\n"
   ]
  },
  {
   "cell_type": "code",
   "execution_count": null,
   "id": "b4bb7502",
   "metadata": {},
   "outputs": [],
   "source": []
  }
 ],
 "metadata": {
  "kernelspec": {
   "display_name": "Python 3",
   "language": "python",
   "name": "python3"
  },
  "language_info": {
   "codemirror_mode": {
    "name": "ipython",
    "version": 3
   },
   "file_extension": ".py",
   "mimetype": "text/x-python",
   "name": "python",
   "nbconvert_exporter": "python",
   "pygments_lexer": "ipython3",
   "version": "3.9.12"
  }
 },
 "nbformat": 4,
 "nbformat_minor": 5
}
