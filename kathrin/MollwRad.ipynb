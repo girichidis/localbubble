{
 "cells": [
  {
   "cell_type": "code",
   "execution_count": 21,
   "id": "954fe33c-9162-40e3-bdb6-da2a61a6702f",
   "metadata": {},
   "outputs": [
    {
     "name": "stderr",
     "output_type": "stream",
     "text": [
      "WARNING: AstropyDeprecationWarning: The in_units function is deprecated and may be removed in a future version.\n",
      "        Use to() instead. [warnings]\n"
     ]
    }
   ],
   "source": [
    "#Kathrin Fischer\n",
    "import healpy as hp\n",
    "from healpy.newvisufunc import projview, newprojplot\n",
    "import numpy as np\n",
    "import matplotlib.pyplot as plt\n",
    "import yt\n",
    "from unyt import cm, s, erg, sr\n",
    "\n",
    "#import argparse\n",
    "from tqdm import tqdm\n",
    "import pickle\n",
    "\n",
    "from astropy import units as u, constants  as cc\n",
    "\n",
    "pc   = cc.pc.cgs.value\n",
    "kB   = cc.k_B.cgs.value\n",
    "Msun = cc.M_sun.cgs.value\n",
    "G    = cc.G.cgs.value\n",
    "Myr  = u.Myr.in_units(\"s\")\n",
    "eV = 1.60218e-12   # eV in erg"
   ]
  },
  {
   "cell_type": "code",
   "execution_count": 9,
   "id": "d052b046-1de7-4227-877c-39d6093ed517",
   "metadata": {},
   "outputs": [
    {
     "name": "stderr",
     "output_type": "stream",
     "text": [
      "/home/neutrino/anaconda3/envs/yt/lib/python3.13/site-packages/healpy/newvisufunc.py:448: RuntimeWarning: More than 20 figures have been opened. Figures created through the pyplot interface (`matplotlib.pyplot.figure`) are retained until explicitly closed and may consume too much memory. (To control this warning, see the rcParam `figure.max_open_warning`). Consider using `matplotlib.pyplot.close()`.\n",
      "  fig = plt.figure(\n",
      "/tmp/ipykernel_374531/3445879399.py:24: RuntimeWarning: More than 20 figures have been opened. Figures created through the pyplot interface (`matplotlib.pyplot.figure`) are retained until explicitly closed and may consume too much memory. (To control this warning, see the rcParam `figure.max_open_warning`). Consider using `matplotlib.pyplot.close()`.\n",
      "  plt.figure(figsize=(10, 5))\n"
     ]
    },
    {
     "name": "stdout",
     "output_type": "stream",
     "text": [
      "Plotting complete.\n"
     ]
    },
    {
     "data": {
      "text/plain": [
       "<Figure size 1000x500 with 0 Axes>"
      ]
     },
     "metadata": {},
     "output_type": "display_data"
    },
    {
     "data": {
      "text/plain": [
       "<Figure size 1000x500 with 0 Axes>"
      ]
     },
     "metadata": {},
     "output_type": "display_data"
    },
    {
     "data": {
      "text/plain": [
       "<Figure size 1000x500 with 0 Axes>"
      ]
     },
     "metadata": {},
     "output_type": "display_data"
    },
    {
     "data": {
      "text/plain": [
       "<Figure size 1000x500 with 0 Axes>"
      ]
     },
     "metadata": {},
     "output_type": "display_data"
    },
    {
     "data": {
      "text/plain": [
       "<Figure size 1000x500 with 0 Axes>"
      ]
     },
     "metadata": {},
     "output_type": "display_data"
    },
    {
     "data": {
      "text/plain": [
       "<Figure size 1000x500 with 0 Axes>"
      ]
     },
     "metadata": {},
     "output_type": "display_data"
    },
    {
     "data": {
      "text/plain": [
       "<Figure size 1000x500 with 0 Axes>"
      ]
     },
     "metadata": {},
     "output_type": "display_data"
    },
    {
     "data": {
      "text/plain": [
       "<Figure size 1000x500 with 0 Axes>"
      ]
     },
     "metadata": {},
     "output_type": "display_data"
    },
    {
     "data": {
      "text/plain": [
       "<Figure size 1000x500 with 0 Axes>"
      ]
     },
     "metadata": {},
     "output_type": "display_data"
    },
    {
     "data": {
      "text/plain": [
       "<Figure size 1000x500 with 0 Axes>"
      ]
     },
     "metadata": {},
     "output_type": "display_data"
    },
    {
     "data": {
      "text/plain": [
       "<Figure size 1000x500 with 0 Axes>"
      ]
     },
     "metadata": {},
     "output_type": "display_data"
    },
    {
     "data": {
      "text/plain": [
       "<Figure size 1000x500 with 0 Axes>"
      ]
     },
     "metadata": {},
     "output_type": "display_data"
    },
    {
     "data": {
      "text/plain": [
       "<Figure size 1000x500 with 0 Axes>"
      ]
     },
     "metadata": {},
     "output_type": "display_data"
    },
    {
     "data": {
      "text/plain": [
       "<Figure size 1000x500 with 0 Axes>"
      ]
     },
     "metadata": {},
     "output_type": "display_data"
    },
    {
     "data": {
      "text/plain": [
       "<Figure size 1000x500 with 0 Axes>"
      ]
     },
     "metadata": {},
     "output_type": "display_data"
    },
    {
     "data": {
      "text/plain": [
       "<Figure size 1000x500 with 0 Axes>"
      ]
     },
     "metadata": {},
     "output_type": "display_data"
    },
    {
     "data": {
      "text/plain": [
       "<Figure size 1000x500 with 0 Axes>"
      ]
     },
     "metadata": {},
     "output_type": "display_data"
    },
    {
     "data": {
      "text/plain": [
       "<Figure size 1000x500 with 0 Axes>"
      ]
     },
     "metadata": {},
     "output_type": "display_data"
    },
    {
     "data": {
      "text/plain": [
       "<Figure size 1000x500 with 0 Axes>"
      ]
     },
     "metadata": {},
     "output_type": "display_data"
    },
    {
     "data": {
      "text/plain": [
       "<Figure size 1000x500 with 0 Axes>"
      ]
     },
     "metadata": {},
     "output_type": "display_data"
    },
    {
     "data": {
      "text/plain": [
       "<Figure size 1000x500 with 0 Axes>"
      ]
     },
     "metadata": {},
     "output_type": "display_data"
    },
    {
     "data": {
      "text/plain": [
       "<Figure size 1000x500 with 0 Axes>"
      ]
     },
     "metadata": {},
     "output_type": "display_data"
    },
    {
     "data": {
      "text/plain": [
       "<Figure size 1000x500 with 0 Axes>"
      ]
     },
     "metadata": {},
     "output_type": "display_data"
    },
    {
     "data": {
      "text/plain": [
       "<Figure size 1000x500 with 0 Axes>"
      ]
     },
     "metadata": {},
     "output_type": "display_data"
    },
    {
     "data": {
      "text/plain": [
       "<Figure size 1000x500 with 0 Axes>"
      ]
     },
     "metadata": {},
     "output_type": "display_data"
    },
    {
     "data": {
      "text/plain": [
       "<Figure size 1000x500 with 0 Axes>"
      ]
     },
     "metadata": {},
     "output_type": "display_data"
    },
    {
     "data": {
      "text/plain": [
       "<Figure size 1000x500 with 0 Axes>"
      ]
     },
     "metadata": {},
     "output_type": "display_data"
    },
    {
     "data": {
      "text/plain": [
       "<Figure size 1000x500 with 0 Axes>"
      ]
     },
     "metadata": {},
     "output_type": "display_data"
    },
    {
     "data": {
      "text/plain": [
       "<Figure size 1000x500 with 0 Axes>"
      ]
     },
     "metadata": {},
     "output_type": "display_data"
    },
    {
     "data": {
      "text/plain": [
       "<Figure size 1000x500 with 0 Axes>"
      ]
     },
     "metadata": {},
     "output_type": "display_data"
    },
    {
     "data": {
      "text/plain": [
       "<Figure size 1000x500 with 0 Axes>"
      ]
     },
     "metadata": {},
     "output_type": "display_data"
    },
    {
     "data": {
      "text/plain": [
       "<Figure size 1000x500 with 0 Axes>"
      ]
     },
     "metadata": {},
     "output_type": "display_data"
    },
    {
     "data": {
      "text/plain": [
       "<Figure size 1000x500 with 0 Axes>"
      ]
     },
     "metadata": {},
     "output_type": "display_data"
    },
    {
     "data": {
      "text/plain": [
       "<Figure size 1000x500 with 0 Axes>"
      ]
     },
     "metadata": {},
     "output_type": "display_data"
    },
    {
     "data": {
      "text/plain": [
       "<Figure size 1000x500 with 0 Axes>"
      ]
     },
     "metadata": {},
     "output_type": "display_data"
    },
    {
     "data": {
      "text/plain": [
       "<Figure size 1000x500 with 0 Axes>"
      ]
     },
     "metadata": {},
     "output_type": "display_data"
    },
    {
     "data": {
      "text/plain": [
       "<Figure size 1000x500 with 0 Axes>"
      ]
     },
     "metadata": {},
     "output_type": "display_data"
    },
    {
     "data": {
      "text/plain": [
       "<Figure size 1000x500 with 0 Axes>"
      ]
     },
     "metadata": {},
     "output_type": "display_data"
    },
    {
     "data": {
      "text/plain": [
       "<Figure size 1000x500 with 0 Axes>"
      ]
     },
     "metadata": {},
     "output_type": "display_data"
    },
    {
     "data": {
      "text/plain": [
       "<Figure size 1000x500 with 0 Axes>"
      ]
     },
     "metadata": {},
     "output_type": "display_data"
    },
    {
     "data": {
      "text/plain": [
       "<Figure size 1000x500 with 0 Axes>"
      ]
     },
     "metadata": {},
     "output_type": "display_data"
    },
    {
     "data": {
      "text/plain": [
       "<Figure size 1000x500 with 0 Axes>"
      ]
     },
     "metadata": {},
     "output_type": "display_data"
    },
    {
     "data": {
      "text/plain": [
       "<Figure size 1000x500 with 0 Axes>"
      ]
     },
     "metadata": {},
     "output_type": "display_data"
    },
    {
     "data": {
      "text/plain": [
       "<Figure size 1000x500 with 0 Axes>"
      ]
     },
     "metadata": {},
     "output_type": "display_data"
    },
    {
     "data": {
      "text/plain": [
       "<Figure size 1000x500 with 0 Axes>"
      ]
     },
     "metadata": {},
     "output_type": "display_data"
    },
    {
     "data": {
      "text/plain": [
       "<Figure size 1000x500 with 0 Axes>"
      ]
     },
     "metadata": {},
     "output_type": "display_data"
    },
    {
     "data": {
      "text/plain": [
       "<Figure size 1000x500 with 0 Axes>"
      ]
     },
     "metadata": {},
     "output_type": "display_data"
    },
    {
     "data": {
      "text/plain": [
       "<Figure size 1000x500 with 0 Axes>"
      ]
     },
     "metadata": {},
     "output_type": "display_data"
    },
    {
     "data": {
      "text/plain": [
       "<Figure size 1000x500 with 0 Axes>"
      ]
     },
     "metadata": {},
     "output_type": "display_data"
    },
    {
     "data": {
      "text/plain": [
       "<Figure size 1000x500 with 0 Axes>"
      ]
     },
     "metadata": {},
     "output_type": "display_data"
    },
    {
     "data": {
      "text/plain": [
       "<Figure size 1000x500 with 0 Axes>"
      ]
     },
     "metadata": {},
     "output_type": "display_data"
    },
    {
     "data": {
      "text/plain": [
       "<Figure size 1000x500 with 0 Axes>"
      ]
     },
     "metadata": {},
     "output_type": "display_data"
    },
    {
     "data": {
      "text/plain": [
       "<Figure size 1000x500 with 0 Axes>"
      ]
     },
     "metadata": {},
     "output_type": "display_data"
    },
    {
     "data": {
      "text/plain": [
       "<Figure size 1000x500 with 0 Axes>"
      ]
     },
     "metadata": {},
     "output_type": "display_data"
    },
    {
     "data": {
      "text/plain": [
       "<Figure size 1000x500 with 0 Axes>"
      ]
     },
     "metadata": {},
     "output_type": "display_data"
    },
    {
     "data": {
      "text/plain": [
       "<Figure size 1000x500 with 0 Axes>"
      ]
     },
     "metadata": {},
     "output_type": "display_data"
    },
    {
     "data": {
      "text/plain": [
       "<Figure size 1000x500 with 0 Axes>"
      ]
     },
     "metadata": {},
     "output_type": "display_data"
    },
    {
     "data": {
      "text/plain": [
       "<Figure size 1000x500 with 0 Axes>"
      ]
     },
     "metadata": {},
     "output_type": "display_data"
    },
    {
     "data": {
      "text/plain": [
       "<Figure size 1000x500 with 0 Axes>"
      ]
     },
     "metadata": {},
     "output_type": "display_data"
    },
    {
     "data": {
      "text/plain": [
       "<Figure size 1000x500 with 0 Axes>"
      ]
     },
     "metadata": {},
     "output_type": "display_data"
    }
   ],
   "source": [
    "radii = [\"60\", \"120\", \"240\"]\n",
    "names = [\"10.8Myr\", \"11.4Myr\"]\n",
    "keys = [\"Column density\", \"Column density ihp\", \"Column density iha\", \"Column density ih2\", \"Halpha_RC flux\", \"Halpha_R flux\", \"Halpha_C flux\", \"Fraction ihp\", \"Fraction iha\", \"Fraction ih2\"]\n",
    "\n",
    "#for each key\n",
    "units = [\"g/cm**2\", \"g/cm**2\", \"g/cm**2\", \"g/cm**2\", \"erg/s\", \"erg/s/cm**2\", \"erg/s/cm**2\", \"erg/s/cm**2\", \"\", \"\"]\n",
    "norm_val = [True, True, True, True, True, True, True, True, True, True]\n",
    "vmin_val = [-8, -8, -11, -18, -12, -12, -12, -12, -4, -8]\n",
    "vmax_val = [-2, -4, -2, -2, -5, -6, -6, -6, 0, 0]\n",
    "\n",
    "file_list_1080 = [\"radius-loop/SILCC_hdf5_plt_cnt_1080-r0060_RC-data.pkl\", \"radius-loop/SILCC_hdf5_plt_cnt_1080-r0120_RC-data.pkl\", \"radius-loop/SILCC_hdf5_plt_cnt_1080-r0240_RC-data.pkl\"]\n",
    "file_list_1140 = [\"radius-loop/SILCC_hdf5_plt_cnt_1140-r0060_RC-data.pkl\", \"radius-loop/SILCC_hdf5_plt_cnt_1140-r0120_RC-data.pkl\", \"radius-loop/SILCC_hdf5_plt_cnt_1140-r0240_RC-data.pkl\"]\n",
    "\n",
    "all_data = {\"10.8Myr\": {r: pickle.load(open(f, \"rb\")) for r, f in zip(radii, file_list_1080)},\n",
    "            \"11.4Myr\": {r: pickle.load(open(f, \"rb\")) for r, f in zip(radii, file_list_1140)}}\n",
    "\n",
    "for name in names:\n",
    "    for r in radii:\n",
    "        data = all_data[name][r]\n",
    "\n",
    "        for key, unit, norm, vmin, vmax in zip(keys, units, norm_val, vmin_val, vmax_val):\n",
    "            field = data[key]\n",
    "\n",
    "            plt.figure(figsize=(10, 5))\n",
    "            if norm:\n",
    "                plt_field = np.log10(field).copy()\n",
    "                unit_label = f\"log10({unit})\" if unit else \"log10\"\n",
    "            else:\n",
    "                plt_field = field.copy()\n",
    "\n",
    "            projview(\n",
    "                plt_field,\n",
    "                coord=[\"G\"],\n",
    "                graticule=True,\n",
    "                graticule_labels=True,\n",
    "                unit=f\"{key} [{unit}]\",\n",
    "                xlabel=\"Longitude\",\n",
    "                ylabel=\"Latitude\",\n",
    "                cb_orientation=\"vertical\",\n",
    "                min=vmin,\n",
    "                max=vmax,\n",
    "                #min=np.min(plt_field),\n",
    "                #max=np.max(plt_field),\n",
    "                latitude_grid_spacing=45,\n",
    "                projection_type=\"mollweide\",\n",
    "                title=f\"{key} (r={r} pc, {name})\",\n",
    "                flip=\"geo\",\n",
    "                phi_convention=\"clockwise\",\n",
    "            )\n",
    "            plt.savefig(f\"{name}_r{r}_{key}.pdf\", bbox_inches=\"tight\")\n",
    "            plt.close()\n",
    "\n",
    "print(\"Plotting complete.\")\n"
   ]
  },
  {
   "cell_type": "code",
   "execution_count": 22,
   "id": "529237aa-ded2-4f23-8008-2c48cee23925",
   "metadata": {},
   "outputs": [
    {
     "name": "stdout",
     "output_type": "stream",
     "text": [
      "Plotting complete.\n"
     ]
    },
    {
     "data": {
      "text/plain": [
       "<Figure size 1000x500 with 0 Axes>"
      ]
     },
     "metadata": {},
     "output_type": "display_data"
    },
    {
     "data": {
      "text/plain": [
       "<Figure size 1000x500 with 0 Axes>"
      ]
     },
     "metadata": {},
     "output_type": "display_data"
    },
    {
     "data": {
      "text/plain": [
       "<Figure size 1000x500 with 0 Axes>"
      ]
     },
     "metadata": {},
     "output_type": "display_data"
    },
    {
     "data": {
      "text/plain": [
       "<Figure size 1000x500 with 0 Axes>"
      ]
     },
     "metadata": {},
     "output_type": "display_data"
    },
    {
     "data": {
      "text/plain": [
       "<Figure size 1000x500 with 0 Axes>"
      ]
     },
     "metadata": {},
     "output_type": "display_data"
    },
    {
     "data": {
      "text/plain": [
       "<Figure size 1000x500 with 0 Axes>"
      ]
     },
     "metadata": {},
     "output_type": "display_data"
    }
   ],
   "source": [
    "#for less keys \n",
    "\n",
    "radii = [\"60\", \"120\", \"240\"]\n",
    "names = [\"10.8Myr\", \"11.4Myr\"]\n",
    "keys = [\"Halpha_RC flux\"]\n",
    "\n",
    "#for each key\n",
    "units = [\"erg/s/cm**2\"]\n",
    "norm_val = [True]\n",
    "vmin_val = [-12]\n",
    "vmax_val = [-5]\n",
    "\n",
    "file_list_1080 = [\"radius-loop/SILCC_hdf5_plt_cnt_1080-r0060_RC-data.pkl\", \"radius-loop/SILCC_hdf5_plt_cnt_1080-r0120_RC-data.pkl\", \"radius-loop/SILCC_hdf5_plt_cnt_1080-r0240_RC-data.pkl\"]\n",
    "file_list_1140 = [\"radius-loop/SILCC_hdf5_plt_cnt_1140-r0060_RC-data.pkl\", \"radius-loop/SILCC_hdf5_plt_cnt_1140-r0120_RC-data.pkl\", \"radius-loop/SILCC_hdf5_plt_cnt_1140-r0240_RC-data.pkl\"]\n",
    "\n",
    "all_data = {\"10.8Myr\": {r: pickle.load(open(f, \"rb\")) for r, f in zip(radii, file_list_1080)},\n",
    "            \"11.4Myr\": {r: pickle.load(open(f, \"rb\")) for r, f in zip(radii, file_list_1140)}}\n",
    "\n",
    "for name in names:\n",
    "    for r in radii:\n",
    "        data = all_data[name][r]\n",
    "\n",
    "        for key, unit, norm, vmin, vmax in zip(keys, units, norm_val, vmin_val, vmax_val):\n",
    "            field = data[key]\n",
    "\n",
    "            plt.figure(figsize=(10, 5))\n",
    "            if norm:\n",
    "                plt_field = np.log10(field).copy()\n",
    "                unit_label = f\"log10({unit})\" if unit else \"log10\"\n",
    "                #unit_label = \"log10 \" + unit\n",
    "            else:\n",
    "                plt_field = field.copy()\n",
    "\n",
    "            projview(\n",
    "                plt_field,\n",
    "                coord=[\"G\"],\n",
    "                graticule=True,\n",
    "                graticule_labels=True,\n",
    "                unit=f\"{key} [{unit_label}]\",\n",
    "                xlabel=\"Longitude\",\n",
    "                ylabel=\"Latitude\",\n",
    "                cb_orientation=\"vertical\",\n",
    "                min=vmin,\n",
    "                max=vmax,\n",
    "                #min=np.min(plt_field),\n",
    "                #max=np.max(plt_field),\n",
    "                latitude_grid_spacing=45,\n",
    "                projection_type=\"mollweide\",\n",
    "                title=f\"{key} (r={r} pc, {name})\",\n",
    "                flip=\"geo\",\n",
    "                phi_convention=\"clockwise\",\n",
    "            )\n",
    "            plt.savefig(f\"{name}_r{r}_{key}.pdf\", bbox_inches=\"tight\")\n",
    "            plt.close()\n",
    "\n",
    "print(\"Plotting complete.\")\n"
   ]
  },
  {
   "cell_type": "code",
   "execution_count": 38,
   "id": "8a0b0b1b-5ef9-4026-a85c-aca63b13f5c9",
   "metadata": {},
   "outputs": [
    {
     "name": "stdout",
     "output_type": "stream",
     "text": [
      "maps plotted\n"
     ]
    },
    {
     "data": {
      "text/plain": [
       "<Figure size 1000x500 with 0 Axes>"
      ]
     },
     "metadata": {},
     "output_type": "display_data"
    },
    {
     "data": {
      "text/plain": [
       "<Figure size 1000x500 with 0 Axes>"
      ]
     },
     "metadata": {},
     "output_type": "display_data"
    },
    {
     "data": {
      "text/plain": [
       "<Figure size 1000x500 with 0 Axes>"
      ]
     },
     "metadata": {},
     "output_type": "display_data"
    },
    {
     "data": {
      "text/plain": [
       "<Figure size 1000x500 with 0 Axes>"
      ]
     },
     "metadata": {},
     "output_type": "display_data"
    },
    {
     "data": {
      "text/plain": [
       "<Figure size 1000x500 with 0 Axes>"
      ]
     },
     "metadata": {},
     "output_type": "display_data"
    },
    {
     "data": {
      "text/plain": [
       "<Figure size 1000x500 with 0 Axes>"
      ]
     },
     "metadata": {},
     "output_type": "display_data"
    },
    {
     "data": {
      "text/plain": [
       "<Figure size 1000x500 with 0 Axes>"
      ]
     },
     "metadata": {},
     "output_type": "display_data"
    },
    {
     "data": {
      "text/plain": [
       "<Figure size 1000x500 with 0 Axes>"
      ]
     },
     "metadata": {},
     "output_type": "display_data"
    }
   ],
   "source": [
    "vmin_val = [-10]\n",
    "vmax_val = [-3]\n",
    "for name in names:\n",
    "    for i in range(len(radii) - 1):\n",
    "        r_inner = radii[i]\n",
    "        r_outer = radii[i + 1]\n",
    "        \n",
    "        data_inner = all_data[name][r_inner]\n",
    "        data_outer = all_data[name][r_outer]\n",
    "\n",
    "        for key, unit, norm, vmin, vmax in zip(keys, units, norm_val, vmin_val, vmax_val):\n",
    "            field_inner = data_inner[key]\n",
    "            field_outer = data_outer[key]\n",
    "\n",
    "            diff_map = field_outer - field_inner\n",
    "            #relative_map = field_outer / field_inner\n",
    "            relative_map = field_inner / field_outer\n",
    "            \n",
    "            # difference map\n",
    "            plt.figure(figsize=(10, 5))\n",
    "            if norm:\n",
    "                log_diff_map = np.log10(diff_map).copy()\n",
    "                unit_label = f\"log10({unit})\" if unit else \"log10\"\n",
    "            else:\n",
    "                log_diff_map = diff_map.copy()\n",
    "                \n",
    "            projview(\n",
    "                log_diff_map, \n",
    "                coord=[\"G\"],\n",
    "                graticule=True,\n",
    "                graticule_labels=True,\n",
    "                unit=f\"Difference in {key} [{unit_label}]\",\n",
    "                xlabel=\"Longitude\",\n",
    "                ylabel=\"Latitude\",\n",
    "                cb_orientation=\"vertical\",\n",
    "               # min=np.min(plt_field),\n",
    "                #max=np.max(plt_field),\n",
    "                min= vmin,\n",
    "                max= vmax,                \n",
    "                latitude_grid_spacing=45,\n",
    "                projection_type=\"mollweide\",\n",
    "                title=f\"Difference {key} (r={r_outer} to r={r_inner}, {name})\",\n",
    "                flip=\"geo\",\n",
    "                phi_convention=\"clockwise\",\n",
    "            )\n",
    "            plt.savefig(f\"dif_{name}_r{r_inner}_r{r_outer}_{key}.pdf\", bbox_inches=\"tight\")\n",
    "            plt.close()\n",
    "\n",
    "            # relative fraction map\n",
    "            plt.figure(figsize=(10, 5))\n",
    "          #  if norm:\n",
    "           #     log_relative_map = np.log10(relative_map).copy()\n",
    "            #    unit_label = f\"log10({unit})\" if unit else \"log10\"\n",
    "            #else:\n",
    "             #   log_relative_map = relative_map.copy()\n",
    "                \n",
    "            projview(\n",
    "                relative_map,\n",
    "              #  log_relative_map, \n",
    "                coord=[\"G\"],\n",
    "                graticule=True,\n",
    "                graticule_labels=True,\n",
    "                unit=f\"Relative Change {key} [{unit_label}]\",\n",
    "                xlabel=\"Longitude\",\n",
    "                ylabel=\"Latitude\",\n",
    "                cb_orientation=\"vertical\",\n",
    "                min=1e-3,\n",
    "                max=1,\n",
    "                latitude_grid_spacing=45,\n",
    "                projection_type=\"mollweide\",\n",
    "                title=f\"Relative {key} (r={r_outer} to r={r_inner}, {name})\",\n",
    "                flip=\"geo\",\n",
    "                phi_convention=\"clockwise\",\n",
    "            )\n",
    "            plt.savefig(f\"rel_{name}_r{r_inner}_r{r_outer}_{key}.pdf\", bbox_inches=\"tight\")\n",
    "            plt.close()\n",
    "            \n",
    "print(\"maps plotted\")\n"
   ]
  },
  {
   "cell_type": "code",
   "execution_count": null,
   "id": "a44b2cfa-43e3-4fbf-b7e3-141efaa7bace",
   "metadata": {},
   "outputs": [],
   "source": []
  }
 ],
 "metadata": {
  "kernelspec": {
   "display_name": "yt",
   "language": "python",
   "name": "yt"
  },
  "language_info": {
   "codemirror_mode": {
    "name": "ipython",
    "version": 3
   },
   "file_extension": ".py",
   "mimetype": "text/x-python",
   "name": "python",
   "nbconvert_exporter": "python",
   "pygments_lexer": "ipython3",
   "version": "3.13.2"
  }
 },
 "nbformat": 4,
 "nbformat_minor": 5
}
