{
 "cells": [
  {
   "cell_type": "code",
   "execution_count": 1,
   "id": "2b400b1b-e5c5-410b-9f06-3897f8c0bc06",
   "metadata": {},
   "outputs": [
    {
     "name": "stderr",
     "output_type": "stream",
     "text": [
      "WARNING: AstropyDeprecationWarning: The in_units function is deprecated and may be removed in a future version.\n",
      "        Use to() instead. [warnings]\n"
     ]
    }
   ],
   "source": [
    "import healpy as hp\n",
    "from healpy.newvisufunc import projview, newprojplot\n",
    "import numpy as np\n",
    "import matplotlib.pyplot as plt\n",
    "import yt\n",
    "from unyt import cm, s, erg, sr\n",
    "\n",
    "#import argparse\n",
    "from tqdm import tqdm\n",
    "import pickle\n",
    "\n",
    "from astropy import units as u, constants  as cc\n",
    "\n",
    "pc   = cc.pc.cgs.value\n",
    "kB   = cc.k_B.cgs.value\n",
    "Msun = cc.M_sun.cgs.value\n",
    "G    = cc.G.cgs.value\n",
    "Myr  = u.Myr.in_units(\"s\")\n",
    "eV = 1.60218e-12   # eV in erg"
   ]
  },
  {
   "cell_type": "code",
   "execution_count": 2,
   "id": "fec123fa-246f-45d1-aa01-1d5b29793ad0",
   "metadata": {},
   "outputs": [
    {
     "name": "stdout",
     "output_type": "stream",
     "text": [
      "r0080_RC\n",
      "center of the bubble at (pc) : -80.0 -150.0 0.0\n",
      "processing file data/SILCC_hdf5_plt_cnt_1080\n"
     ]
    },
    {
     "name": "stderr",
     "output_type": "stream",
     "text": [
      "yt : [INFO     ] 2025-03-14 13:19:42,659 Parameters: current_time              = 340597785179995.1\n",
      "yt : [INFO     ] 2025-03-14 13:19:42,660 Parameters: domain_dimensions         = [8 8 8]\n",
      "yt : [INFO     ] 2025-03-14 13:19:42,662 Parameters: domain_left_edge          = [-7.715e+20 -7.715e+20 -7.715e+20]\n",
      "yt : [INFO     ] 2025-03-14 13:19:42,663 Parameters: domain_right_edge         = [7.715e+20 7.715e+20 7.715e+20]\n",
      "yt : [INFO     ] 2025-03-14 13:19:42,664 Parameters: cosmological_simulation   = 0\n"
     ]
    },
    {
     "name": "stdout",
     "output_type": "stream",
     "text": [
      "\n",
      "min and max positions of the selected region\n",
      "min/max x (pc):  -159.68464626739294 -0.4883322515822414\n",
      "min/max y (pc):  -229.02782599207123 -70.808176479425\n",
      "min/max z (pc):  -77.15649574999414 79.1098247563231\n",
      "\n",
      "min and max positions of the selected region - shifted to center of the sphere\n",
      "min/max x (pc):  -79.68464626739294 79.51166774841775\n",
      "min/max y (pc):  -79.02782599207123 79.19182352057501\n",
      "min/max z (pc):  -77.15649574999414 79.1098247563231\n",
      "\n",
      "min/max r (pc):  1.4392925289249479 79.99999710455978\n",
      "\n",
      "create healpix maps for various quantities with nside 64 and NPIX 49152\n",
      "\n"
     ]
    },
    {
     "name": "stderr",
     "output_type": "stream",
     "text": [
      "100%|██████████| 1293308/1293308 [04:52<00:00, 4414.21it/s]\n",
      "yt : [INFO     ] 2025-03-14 13:24:50,949 Parameters: current_time              = 359537415765615.6\n",
      "yt : [INFO     ] 2025-03-14 13:24:50,951 Parameters: domain_dimensions         = [8 8 8]\n",
      "yt : [INFO     ] 2025-03-14 13:24:50,954 Parameters: domain_left_edge          = [-7.715e+20 -7.715e+20 -7.715e+20]\n",
      "yt : [INFO     ] 2025-03-14 13:24:50,959 Parameters: domain_right_edge         = [7.715e+20 7.715e+20 7.715e+20]\n",
      "yt : [INFO     ] 2025-03-14 13:24:50,961 Parameters: cosmological_simulation   = 0\n",
      "yt : [WARNING  ] 2025-03-14 13:24:50,964 Field ('gas', 'j_halpha_R') already exists. To override use `force_override=True`.\n",
      "yt : [WARNING  ] 2025-03-14 13:24:50,965 Field ('gas', 'j_halpha_C') already exists. To override use `force_override=True`.\n",
      "yt : [WARNING  ] 2025-03-14 13:24:50,966 Field ('gas', 'j_halpha_RC') already exists. To override use `force_override=True`.\n",
      "yt : [WARNING  ] 2025-03-14 13:24:50,968 Field ('gas', 'j_halpha_RC_vol') already exists. To override use `force_override=True`.\n",
      "yt : [WARNING  ] 2025-03-14 13:24:50,969 Field ('gas', 'j_halpha_R_vol') already exists. To override use `force_override=True`.\n",
      "yt : [WARNING  ] 2025-03-14 13:24:50,969 Field ('gas', 'j_halpha_C_vol') already exists. To override use `force_override=True`.\n"
     ]
    },
    {
     "name": "stdout",
     "output_type": "stream",
     "text": [
      "\n",
      "sum_halpha_RC: 2.5172438475462023e+34\n",
      "\n",
      "done with the loop over cells\n",
      "processing file data/SILCC_hdf5_plt_cnt_1140\n",
      "\n",
      "min and max positions of the selected region\n",
      "min/max x (pc):  -159.68464626739294 -0.4883322515822414\n",
      "min/max y (pc):  -229.02782599207123 -70.808176479425\n",
      "min/max z (pc):  -77.15649574999414 79.1098247563231\n",
      "\n",
      "min and max positions of the selected region - shifted to center of the sphere\n",
      "min/max x (pc):  -79.68464626739294 79.51166774841775\n",
      "min/max y (pc):  -79.02782599207123 79.19182352057501\n",
      "min/max z (pc):  -77.15649574999414 79.1098247563231\n",
      "\n",
      "min/max r (pc):  1.4392925289249479 79.99999710455978\n",
      "\n",
      "create healpix maps for various quantities with nside 64 and NPIX 49152\n",
      "\n"
     ]
    },
    {
     "name": "stderr",
     "output_type": "stream",
     "text": [
      "100%|██████████| 1182896/1182896 [04:28<00:00, 4404.63it/s]\n"
     ]
    },
    {
     "name": "stdout",
     "output_type": "stream",
     "text": [
      "\n",
      "sum_halpha_RC: 4.0918597901426845e+33\n",
      "\n",
      "done with the loop over cells\n",
      "Data processing complete.  Run the next cell for plotting.\n"
     ]
    }
   ],
   "source": [
    "file_list = [\"data/SILCC_hdf5_plt_cnt_1080\", \"data/SILCC_hdf5_plt_cnt_1140\"]\n",
    "#file_list = [\"data/SILCC_hdf5_plt_cnt_1080\"]\n",
    "names = [\"10.8Myr\", \"11.4Myr\"]\n",
    "nside = 64\n",
    "radius = 80\n",
    "odir = \".\"\n",
    "odir_data = odir\n",
    "\n",
    "radius_str = str(int(radius)).zfill(4)\n",
    "file_suffix = f\"r{radius_str}_RC\"\n",
    "print(file_suffix)\n",
    "\n",
    "# numerical parameters for healpix\n",
    "cx = -80.\n",
    "cy = -150.\n",
    "cz = 0.0\n",
    "c = ([cx, cy, cz], \"pc\")          # new yt version\n",
    "c = [cx*pc, cy*pc, cz*pc] # old yt version\n",
    "print(\"center of the bubble at (pc) :\", cx, cy, cz)\n",
    "\n",
    "# Emissivity functions\n",
    "def _j_halpha_R(field, data):\n",
    "    T = data[(\"gas\", \"temperature\")].v\n",
    "    T4 = T / 1e4\n",
    "    number_density = data[(\"gas\", \"number_density\")].v\n",
    "    ion_fraction = data[(\"flash\", \"ihp \")].v\n",
    "    ne_np = (number_density * ion_fraction) ** 2\n",
    "    return 2.82e-26 * (T4 ** (-0.942 - 0.03 * np.log(T4))) * ne_np * erg / cm**3 / s\n",
    "\n",
    "def _j_halpha_C(field, data):\n",
    "    T = data[(\"gas\", \"temperature\")].v\n",
    "    number_density = data[(\"gas\", \"number_density\")].v\n",
    "    ion_fraction = data[(\"flash\", \"ihp \")].v\n",
    "    Ha_fraction = data[(\"flash\", \"iha \")]\n",
    "    ne = number_density * ion_fraction\n",
    "    nH = number_density * Ha_fraction\n",
    "\n",
    "    def lambda_13(T):\n",
    "        if 4000 <= T <= 25000:\n",
    "            return 0.35 - 2.62e-7*T - 8.15e-11*T**2 + 6.19e-15*T**3\n",
    "        elif 25000 < T <= 500000:\n",
    "            return 0.276 + 4.99e-6*T - 8.85e-12*T**2 + 7.18e-18*T**3\n",
    "        elif T < 4000:\n",
    "            T = 4000\n",
    "            return 0.35 - 2.62e-7*T - 8.15e-11*T**2 + 6.19e-15*T**3\n",
    "        elif T > 500000:\n",
    "            T = 500000\n",
    "            return 0.276 + 4.99e-6*T - 8.85e-12*T**2 + 7.18e-18*T**3\n",
    "\n",
    "    lambda_13_vec = np.vectorize(lambda_13)\n",
    "    return (1.30e-17 / (4 * np.pi)) * (lambda_13_vec(T) / np.sqrt(T)) * np.exp(-12.1 * eV / kB /  T) * ne * nH * erg / cm**3 / s\n",
    "\n",
    "def _j_halpha_RC(field, data):\n",
    "    j_halpha_R = data[(\"gas\", \"j_halpha_R\")]\n",
    "    j_halpha_C = data[(\"gas\", \"j_halpha_C\")]\n",
    "    return (j_halpha_R + j_halpha_C)\n",
    "\n",
    "def _j_halpha_RC_vol(field, data):\n",
    "    j_halpha_RC = data[(\"gas\", \"j_halpha_RC\")]\n",
    "    cell_volume = data[(\"gas\", \"cell_volume\")]\n",
    "    return j_halpha_RC * cell_volume\n",
    "\n",
    "def _j_halpha_R_vol(field, data):\n",
    "    j_halpha_R = data[(\"gas\", \"j_halpha_R\")]\n",
    "    cell_volume = data[(\"gas\", \"cell_volume\")]\n",
    "    return j_halpha_R * cell_volume\n",
    "\n",
    "def _j_halpha_C_vol(field, data):\n",
    "    j_halpha_C = data[(\"gas\", \"j_halpha_C\")]\n",
    "    cell_volume = data[(\"gas\", \"cell_volume\")]\n",
    "    return j_halpha_C * cell_volume\n",
    "\n",
    "# Dictionary to store processed data\n",
    "all_data = {}\n",
    "\n",
    "# Loop over all files\n",
    "for files in file_list:\n",
    "    print(\"processing file\", files)\n",
    "    ds = yt.load(files)\n",
    "    yt.add_field((\"gas\", \"j_halpha_R\"), function=_j_halpha_R, units=\"erg/(cm**3*s)\", sampling_type=\"cell\")\n",
    "    yt.add_field((\"gas\", \"j_halpha_C\"), function=_j_halpha_C, units=\"erg/(cm**3*s)\", sampling_type=\"cell\")\n",
    "    yt.add_field((\"gas\", \"j_halpha_RC\"), function=_j_halpha_RC, units=\"erg/(cm**3*s)\", sampling_type=\"cell\")\n",
    "    yt.add_field((\"gas\", \"j_halpha_RC_vol\"), function=_j_halpha_RC_vol, units=\"erg/s\", sampling_type=\"cell\")\n",
    "    yt.add_field((\"gas\", \"j_halpha_R_vol\"), function=_j_halpha_R_vol, units=\"erg/s\", sampling_type=\"cell\")\n",
    "    yt.add_field((\"gas\", \"j_halpha_C_vol\"), function=_j_halpha_C_vol, units=\"erg/s\", sampling_type=\"cell\")\n",
    "\n",
    "    # select the region around the bubble\n",
    "    sp = ds.sphere(c, (radius, \"pc\"))\n",
    "\n",
    "    print()\n",
    "    print(\"min and max positions of the selected region\")\n",
    "    print(\"min/max x (pc): \", np.min(sp[(\"gas\", \"x\")].in_units(\"pc\").v), np.max(sp[(\"gas\", \"x\")].in_units(\"pc\").v))\n",
    "    print(\"min/max y (pc): \", np.min(sp[(\"gas\", \"y\")].in_units(\"pc\").v), np.max(sp[(\"gas\", \"y\")].in_units(\"pc\").v))\n",
    "    print(\"min/max z (pc): \", np.min(sp[(\"gas\", \"z\")].in_units(\"pc\").v), np.max(sp[(\"gas\", \"z\")].in_units(\"pc\").v))\n",
    "\n",
    "    # box size in pc\n",
    "    Lx = ds.domain_width[0].in_units(\"pc\").v\n",
    "    Ly = ds.domain_width[1].in_units(\"pc\").v\n",
    "    Lz = ds.domain_width[2].in_units(\"pc\").v\n",
    "\n",
    "    # find coordinates with respect to the center of the sphere taking into account periodic boundaries in x and y\n",
    "    posx_ctr = (sp[(\"gas\", \"x\")].in_units(\"pc\").v - cx + Lx/2.) % Lx - Lx/2.\n",
    "    posy_ctr = (sp[(\"gas\", \"y\")].in_units(\"pc\").v - cy + Ly/2.) % Ly - Ly/2.\n",
    "    posz_ctr =  sp[(\"gas\", \"z\")].in_units(\"pc\").v - cz\n",
    "    print()\n",
    "    print(\"min and max positions of the selected region - shifted to center of the sphere\")\n",
    "    print(\"min/max x (pc): \", np.min(posx_ctr), np.max(posx_ctr))\n",
    "    print(\"min/max y (pc): \", np.min(posy_ctr), np.max(posy_ctr))\n",
    "    print(\"min/max z (pc): \", np.min(posz_ctr), np.max(posz_ctr))\n",
    "    # radius based on centre of mass\n",
    "    rad_ctr = np.sqrt(posx_ctr**2 + posy_ctr**2 + posz_ctr**2)\n",
    "    # print min max of radius\n",
    "    print()\n",
    "    print(\"min/max r (pc): \", np.min(rad_ctr), np.max(rad_ctr))\n",
    "\n",
    "    # cell volume\n",
    "    volu = sp[(\"gas\", \"cell_volume\")].in_units(\"pc**3\").v\n",
    "\n",
    "    # create normal vectors for the healpix map\n",
    "    vec_norm_x = posx_ctr / rad_ctr\n",
    "    vec_norm_y = posy_ctr / rad_ctr\n",
    "    vec_norm_z = posz_ctr / rad_ctr\n",
    "\n",
    "    # compute angular size of all cells at the respective distance to the observer\n",
    "    R = (3 * volu / (4 * np.pi))**(1./3.)\n",
    "    dx = np.power(volu, 1./3.)\n",
    "\n",
    "    # compute the angle of the cell with respect to the observer\n",
    "    angle = np.arctan2(R, rad_ctr)\n",
    "\n",
    "    # number of cells\n",
    "    Ncell = rad_ctr.size\n",
    "    print()\n",
    "    # create three healpix maps\n",
    "    NPIX = hp.nside2npix(nside)\n",
    "    print(\"create healpix maps for various quantities with nside\", nside, \"and NPIX\", NPIX)\n",
    "    coldens_map     = np.zeros(NPIX) # column density\n",
    "    coldens_ihp_map = np.zeros(NPIX) # column density (ionized gas)\n",
    "    coldens_iha_map = np.zeros(NPIX) # column density (neutral gas)\n",
    "    coldens_ih2_map = np.zeros(NPIX) # column density (molecular gas)\n",
    "    Halpha_RC_lum_map  = np.zeros(NPIX) # Halpha emission luminosity\n",
    "    Halpha_RC_flux_map = np.zeros(NPIX) # Halpha emission flux\n",
    "    Halpha_R_flux_map = np.zeros(NPIX)\n",
    "    Halpha_C_flux_map = np.zeros(NPIX)\n",
    "    frac_ihp_map = np.zeros(NPIX)\n",
    "    frac_iha_map = np.zeros(NPIX)\n",
    "    frac_ih2_map = np.zeros(NPIX)\n",
    "\n",
    "    total_mass = 0.0\n",
    "    total_volu = 0.0\n",
    "    total_halpha_RC = 0.0\n",
    "    total_halpha_R = 0.0\n",
    "    total_halpha_C = 0.0\n",
    "\n",
    "    print()\n",
    "    for i in tqdm(range(Ncell)):\n",
    "\n",
    "        # find the pixels in the healpix map\n",
    "        pix = hp.query_disc(nside, [vec_norm_x[i], vec_norm_y[i], vec_norm_z[i]], angle[i], inclusive=True)\n",
    "\n",
    "        # total column density\n",
    "        coldens_map[pix]   += sp[(\"gas\", \"cell_mass\")][i].v / (np.pi*(R[i]*pc)**2) / len(pix)\n",
    "        # column density of ionized gas\n",
    "        coldens_ihp_map[pix] += sp[(\"gas\", \"cell_mass\")][i].v * sp[(\"flash\", \"ihp \")][i].v / (np.pi*(R[i]*pc)**2) / len(pix)\n",
    "        # column density of atomic h\n",
    "        coldens_iha_map[pix] += sp[(\"gas\", \"cell_mass\")][i].v * sp[(\"flash\", \"iha \")][i].v / (np.pi*(R[i]*pc)**2) / len(pix)\n",
    "        # column density of h2\n",
    "        coldens_ih2_map[pix] += sp[(\"gas\", \"cell_mass\")][i].v * sp[(\"flash\", \"ih2 \")][i].v / (np.pi*(R[i]*pc)**2) / len(pix)\n",
    "        # Halpha emission luminosity RC\n",
    "        Halpha_RC_lum_map[pix] += sp[(\"gas\", \"j_halpha_RC_vol\")][i].v / len(pix)\n",
    "        # Halpha flux RC\n",
    "        Halpha_RC_flux_map[pix] += sp[(\"gas\", \"j_halpha_RC_vol\")][i].v / (4 * np.pi*(R[i]*pc)**2)\n",
    "        # Halpha flux R\n",
    "        Halpha_R_flux_map[pix] += sp[(\"gas\", \"j_halpha_R_vol\")][i].v / (4 * np.pi*(R[i]*pc)**2)\n",
    "        # Halpha flux C\n",
    "        Halpha_C_flux_map[pix] += sp[(\"gas\", \"j_halpha_C_vol\")][i].v / (4 * np.pi*(R[i]*pc)**2)\n",
    "\n",
    "        total_halpha_RC += sp[(\"gas\", \"j_halpha_RC_vol\")][i].v\n",
    "        total_halpha_R += sp[(\"gas\", \"j_halpha_R_vol\")][i].v\n",
    "        total_halpha_C += sp[(\"gas\", \"j_halpha_C_vol\")][i].v\n",
    "        total_mass += sp[(\"gas\", \"cell_mass\")][i].v\n",
    "        total_volu += volu[i]\n",
    "\n",
    "    print()\n",
    "\n",
    "    sum_halpha_RC = np.sum(Halpha_RC_lum_map)\n",
    "    print(\"sum_halpha_RC:\", sum_halpha_RC)\n",
    "\n",
    "    #frac ihp\n",
    "    frac_ihp_map = coldens_ihp_map / coldens_map\n",
    "    #frac iha\n",
    "    frac_iha_map = coldens_iha_map / coldens_map\n",
    "    #frac ih2\n",
    "    frac_ih2_map = coldens_ih2_map / coldens_map\n",
    "\n",
    "    print()\n",
    "    print(\"done with the loop over cells\")\n",
    "\n",
    "    # Prepare data dictionary for this file\n",
    "    data = {}\n",
    "\n",
    "    data[\"simtime\"] = ds.current_time.v\n",
    "    data[\"simtime_Myr\"] = ds.current_time.in_units(\"Myr\").v\n",
    "    data[\"Column density\"] = coldens_map\n",
    "    data[\"Column density ihp\"] = coldens_ihp_map\n",
    "    data[\"Column density iha\"] = coldens_iha_map\n",
    "    data[\"Column density ih2\"] = coldens_ih2_map\n",
    "    data[\"Halpha_RC luminosity\"] = Halpha_RC_lum_map\n",
    "    data[\"Halpha_RC flux\"] = Halpha_RC_flux_map\n",
    "    data[\"Halpha_R flux\"] = Halpha_R_flux_map\n",
    "    data[\"Halpha_C flux\"] = Halpha_C_flux_map\n",
    "    data[\"Fraction ihp\"] = frac_ihp_map\n",
    "    data[\"Fraction iha\"] = frac_iha_map\n",
    "    data[\"Fraction ih2\"] = frac_ih2_map\n",
    "    data[\"total_mass\"] = total_mass\n",
    "    data[\"total_volu\"] = total_volu\n",
    "    data[\"total_Halpha_RC\"] = total_halpha_RC\n",
    "    data[\"total_Halpha_R\"] = total_halpha_R\n",
    "    data[\"total_Halpha_C\"] = total_halpha_C\n",
    "    data[\"file_suffix\"] = file_suffix  # Store file suffix\n",
    "    data[\"filename\"] = files\n",
    "    # Store the data for this file\n",
    "    all_data[files] = data\n",
    "\n",
    "    # write data to disk using pickle\n",
    "    with open(f\"{odir_data}/{files}-{file_suffix}-data.pkl\", \"wb\") as f:\n",
    "        pickle.dump(data, f)\n",
    "# Save the all_data dictionary to a file\n",
    "with open(\"all_data.pkl\", \"wb\") as f:\n",
    "    pickle.dump(all_data, f)\n",
    "\n",
    "print(\"Data processing complete.  Run the next cell for plotting.\")\n"
   ]
  },
  {
   "cell_type": "code",
   "execution_count": 5,
   "id": "706a138f-9daf-47aa-b4f7-0213c696eaf9",
   "metadata": {},
   "outputs": [
    {
     "name": "stderr",
     "output_type": "stream",
     "text": [
      "/home/neutrino/anaconda3/envs/yt/lib/python3.13/site-packages/healpy/newvisufunc.py:448: RuntimeWarning: More than 20 figures have been opened. Figures created through the pyplot interface (`matplotlib.pyplot.figure`) are retained until explicitly closed and may consume too much memory. (To control this warning, see the rcParam `figure.max_open_warning`). Consider using `matplotlib.pyplot.close()`.\n",
      "  fig = plt.figure(\n",
      "/tmp/ipykernel_307039/1902396041.py:36: RuntimeWarning: More than 20 figures have been opened. Figures created through the pyplot interface (`matplotlib.pyplot.figure`) are retained until explicitly closed and may consume too much memory. (To control this warning, see the rcParam `figure.max_open_warning`). Consider using `matplotlib.pyplot.close()`.\n",
      "  fig = plt.figure(figsize=(10, 5))\n"
     ]
    },
    {
     "name": "stdout",
     "output_type": "stream",
     "text": [
      "Plotting complete.\n"
     ]
    },
    {
     "data": {
      "text/plain": [
       "<Figure size 1000x500 with 0 Axes>"
      ]
     },
     "metadata": {},
     "output_type": "display_data"
    },
    {
     "data": {
      "text/plain": [
       "<Figure size 1000x500 with 0 Axes>"
      ]
     },
     "metadata": {},
     "output_type": "display_data"
    },
    {
     "data": {
      "text/plain": [
       "<Figure size 1000x500 with 0 Axes>"
      ]
     },
     "metadata": {},
     "output_type": "display_data"
    },
    {
     "data": {
      "text/plain": [
       "<Figure size 1000x500 with 0 Axes>"
      ]
     },
     "metadata": {},
     "output_type": "display_data"
    },
    {
     "data": {
      "text/plain": [
       "<Figure size 1000x500 with 0 Axes>"
      ]
     },
     "metadata": {},
     "output_type": "display_data"
    },
    {
     "data": {
      "text/plain": [
       "<Figure size 1000x500 with 0 Axes>"
      ]
     },
     "metadata": {},
     "output_type": "display_data"
    },
    {
     "data": {
      "text/plain": [
       "<Figure size 1000x500 with 0 Axes>"
      ]
     },
     "metadata": {},
     "output_type": "display_data"
    },
    {
     "data": {
      "text/plain": [
       "<Figure size 1000x500 with 0 Axes>"
      ]
     },
     "metadata": {},
     "output_type": "display_data"
    },
    {
     "data": {
      "text/plain": [
       "<Figure size 1000x500 with 0 Axes>"
      ]
     },
     "metadata": {},
     "output_type": "display_data"
    },
    {
     "data": {
      "text/plain": [
       "<Figure size 1000x500 with 0 Axes>"
      ]
     },
     "metadata": {},
     "output_type": "display_data"
    },
    {
     "data": {
      "text/plain": [
       "<Figure size 1000x500 with 0 Axes>"
      ]
     },
     "metadata": {},
     "output_type": "display_data"
    },
    {
     "data": {
      "text/plain": [
       "<Figure size 1000x500 with 0 Axes>"
      ]
     },
     "metadata": {},
     "output_type": "display_data"
    },
    {
     "data": {
      "text/plain": [
       "<Figure size 1000x500 with 0 Axes>"
      ]
     },
     "metadata": {},
     "output_type": "display_data"
    },
    {
     "data": {
      "text/plain": [
       "<Figure size 1000x500 with 0 Axes>"
      ]
     },
     "metadata": {},
     "output_type": "display_data"
    },
    {
     "data": {
      "text/plain": [
       "<Figure size 1000x500 with 0 Axes>"
      ]
     },
     "metadata": {},
     "output_type": "display_data"
    },
    {
     "data": {
      "text/plain": [
       "<Figure size 1000x500 with 0 Axes>"
      ]
     },
     "metadata": {},
     "output_type": "display_data"
    },
    {
     "data": {
      "text/plain": [
       "<Figure size 1000x500 with 0 Axes>"
      ]
     },
     "metadata": {},
     "output_type": "display_data"
    },
    {
     "data": {
      "text/plain": [
       "<Figure size 1000x500 with 0 Axes>"
      ]
     },
     "metadata": {},
     "output_type": "display_data"
    },
    {
     "data": {
      "text/plain": [
       "<Figure size 1000x500 with 0 Axes>"
      ]
     },
     "metadata": {},
     "output_type": "display_data"
    },
    {
     "data": {
      "text/plain": [
       "<Figure size 1000x500 with 0 Axes>"
      ]
     },
     "metadata": {},
     "output_type": "display_data"
    },
    {
     "data": {
      "text/plain": [
       "<Figure size 1000x500 with 0 Axes>"
      ]
     },
     "metadata": {},
     "output_type": "display_data"
    },
    {
     "data": {
      "text/plain": [
       "<Figure size 1000x500 with 0 Axes>"
      ]
     },
     "metadata": {},
     "output_type": "display_data"
    }
   ],
   "source": [
    "# Load the data\n",
    "with open(\"all_data.pkl\", \"rb\") as f:\n",
    "    all_data = pickle.load(f)\n",
    "\n",
    "odir = \".\"  # Output directory\n",
    "names = [\"10.8Myr\", \"11.4Myr\"] #list of names\n",
    "file_list = [\"data/SILCC_hdf5_plt_cnt_1080\", \"data/SILCC_hdf5_plt_cnt_1140\"]\n",
    "# Loop through the processed data and create plots\n",
    "for files, data in all_data.items():\n",
    "\n",
    "    file_suffix = data[\"file_suffix\"] #load file suffix\n",
    "    coldens_map = data[\"Column density\"]\n",
    "    coldens_ihp_map = data[\"Column density ihp\"]\n",
    "    coldens_iha_map = data[\"Column density iha\"]\n",
    "    coldens_ih2_map = data[\"Column density ih2\"]\n",
    "    Halpha_RC_lum_map = data[\"Halpha_RC luminosity\"]\n",
    "    Halpha_RC_flux_map = data[\"Halpha_RC flux\"]\n",
    "    Halpha_R_flux_map = data[\"Halpha_R flux\"]\n",
    "    Halpha_C_flux_map = data[\"Halpha_C flux\"]\n",
    "    frac_ihp_map = data[\"Fraction ihp\"]\n",
    "    frac_iha_map = data[\"Fraction iha\"]\n",
    "    frac_ih2_map = data[\"Fraction ih2\"]\n",
    "    \n",
    "    # Loop over the fields to plot\n",
    "    for name, field, norm, unit, vmin, vmax in zip([\"Column density\", \"Column density ihp\", \"Column density iha\", \"Column density ih2\", \"Halpha_RC luminosity\", \"Halpha_RC flux\", \"Halpha_R flux\", \"Halpha_C flux\", \"Fraction ihp\", \"Fraction iha\", \"Fraction ih2\"],\n",
    "    [coldens_map, coldens_ihp_map, coldens_iha_map, coldens_ih2_map, Halpha_RC_lum_map, Halpha_RC_flux_map, Halpha_R_flux_map, Halpha_C_flux_map, frac_ihp_map, frac_iha_map, frac_ih2_map],\n",
    "    [True, True, True, True, True, True, True, True, True, True, True],\n",
    "    [\"g/cm**2\", \"g/cm**2\", \"g/cm**2\", \"g/cm**2\", \"erg/s\", \"erg/s/cm**2\", \"erg/s/cm**2\", \"erg/s/cm**2\", \"\", \"\", \"\"],\n",
    "    [-8, -8, -11, -18, 24, -12, -12, -12, -4, -8, -10],\n",
    "    [-2, -4, -2, -2, 32, -6, -6, -6,  0, 0, -0]):\n",
    "                                                   \n",
    "  #  [-8, -8, -11, -18, 24.6, -13.6, -13.8, -18.2, -3.8, -7.7, -10],\n",
    "   # [-2.1, -3.9, -2.3, -2.7, 31.7, -5.9, -6, -6.4,  0, 0, -0.55]):\n",
    "        \n",
    "        # create a mollweide projection for all fields\n",
    "        fig = plt.figure(figsize=(10, 5))\n",
    "        if norm:\n",
    "            plt_field = np.log10(field).copy()\n",
    "            unit_label = f\"log10({unit})\" if unit else \"log10\"\n",
    "        else:\n",
    "            plt_field = field.copy()\n",
    "\n",
    "        #hp.mollview(plt_field, return_projected_map=True, title=name, cbar=False)\n",
    "\n",
    "        #hp.mollview(plt_field, return_projected_map=True, title=f\"{name} {names[file_list.index(files)]}\", cbar=False, vmin=  , vmax= )\n",
    "        #hp.graticule()\n",
    "        projview(\n",
    "            plt_field,\n",
    "            coord=[\"G\"],\n",
    "            graticule=True,\n",
    "            graticule_labels=True,\n",
    "            unit=f\"{name} [{unit_label}]\",\n",
    "            xlabel=\"Longitude\",\n",
    "            ylabel=\"Latitude\",\n",
    "            cb_orientation=\"vertical\",\n",
    "            min=vmin,\n",
    "            max=vmax,\n",
    "            #min=np.min(plt_field),\n",
    "            #max=np.max(plt_field),\n",
    "            latitude_grid_spacing=45,\n",
    "            projection_type=\"mollweide\",\n",
    "            title=f\"{name} {names[file_list.index(files)]}\",\n",
    "            flip=\"geo\",\n",
    "            phi_convention=\"clockwise\")\n",
    "\n",
    "        #ax = plt.gca()\n",
    "        #image = ax.get_images()[0]\n",
    "        #cbar = fig.colorbar(image, ax=ax, orientation='vertical', shrink=0.8)\n",
    "        #cbar.set_label(f\"{name} [{unit_label}]\", rotation=270, labelpad=20)\n",
    "        #cbar.set_label(name, rotation=270, labelpad=20)\n",
    "        plt.savefig(f'{odir}/{files}-{file_suffix}-{name}.pdf', bbox_inches=\"tight\")\n",
    "        plt.close()\n",
    "\n",
    "print(\"Plotting complete.\")\n"
   ]
  },
  {
   "cell_type": "code",
   "execution_count": 9,
   "id": "28b481b4-836c-4c6d-8d22-83ae615f9ad6",
   "metadata": {},
   "outputs": [
    {
     "name": "stdout",
     "output_type": "stream",
     "text": [
      "r0080_RC\n",
      "center of the bubble at (pc) : -80.0 -150.0 0.0\n",
      "processing file data/SILCC_hdf5_plt_cnt_1080\n"
     ]
    },
    {
     "name": "stderr",
     "output_type": "stream",
     "text": [
      "yt : [INFO     ] 2025-03-13 10:35:55,159 Parameters: current_time              = 340597785179995.1\n",
      "yt : [INFO     ] 2025-03-13 10:35:55,171 Parameters: domain_dimensions         = [8 8 8]\n",
      "yt : [INFO     ] 2025-03-13 10:35:55,173 Parameters: domain_left_edge          = [-7.715e+20 -7.715e+20 -7.715e+20]\n",
      "yt : [INFO     ] 2025-03-13 10:35:55,175 Parameters: domain_right_edge         = [7.715e+20 7.715e+20 7.715e+20]\n",
      "yt : [INFO     ] 2025-03-13 10:35:55,177 Parameters: cosmological_simulation   = 0\n",
      "yt : [WARNING  ] 2025-03-13 10:35:55,182 Field ('gas', 'j_halpha_R') already exists. To override use `force_override=True`.\n",
      "yt : [WARNING  ] 2025-03-13 10:35:55,184 Field ('gas', 'j_halpha_C') already exists. To override use `force_override=True`.\n",
      "yt : [WARNING  ] 2025-03-13 10:35:55,186 Field ('gas', 'j_halpha_RC') already exists. To override use `force_override=True`.\n",
      "yt : [WARNING  ] 2025-03-13 10:35:55,187 Field ('gas', 'j_halpha_RC_vol') already exists. To override use `force_override=True`.\n",
      "yt : [WARNING  ] 2025-03-13 10:35:55,188 Field ('gas', 'j_halpha_R_vol') already exists. To override use `force_override=True`.\n",
      "yt : [WARNING  ] 2025-03-13 10:35:55,190 Field ('gas', 'j_halpha_C_vol') already exists. To override use `force_override=True`.\n"
     ]
    },
    {
     "name": "stdout",
     "output_type": "stream",
     "text": [
      "\n",
      "min and max positions of the selected region\n",
      "min/max x (pc):  -159.68464626739294 -0.4883322515822414\n",
      "min/max y (pc):  -229.02782599207123 -70.808176479425\n",
      "min/max z (pc):  -77.15649574999414 79.1098247563231\n",
      "\n",
      "min and max positions of the selected region - shifted to center of the sphere\n",
      "min/max x (pc):  -79.68464626739294 79.51166774841775\n",
      "min/max y (pc):  -79.02782599207123 79.19182352057501\n",
      "min/max z (pc):  -77.15649574999414 79.1098247563231\n",
      "\n",
      "min/max r (pc):  1.4392925289249479 79.99999710455978\n",
      "\n",
      "create healpix maps for various quantities with nside 64 and NPIX 49152\n",
      "\n"
     ]
    },
    {
     "name": "stderr",
     "output_type": "stream",
     "text": [
      " 29%|██▊       | 370062/1293308 [01:22<03:25, 4495.88it/s]\n"
     ]
    },
    {
     "ename": "KeyboardInterrupt",
     "evalue": "",
     "output_type": "error",
     "traceback": [
      "\u001b[31m---------------------------------------------------------------------------\u001b[39m",
      "\u001b[31mKeyboardInterrupt\u001b[39m                         Traceback (most recent call last)",
      "\u001b[36mCell\u001b[39m\u001b[36m \u001b[39m\u001b[32mIn[9]\u001b[39m\u001b[32m, line 170\u001b[39m\n\u001b[32m    168\u001b[39m coldens_iha_map[pix] += sp[(\u001b[33m\"\u001b[39m\u001b[33mgas\u001b[39m\u001b[33m\"\u001b[39m, \u001b[33m\"\u001b[39m\u001b[33mcell_mass\u001b[39m\u001b[33m\"\u001b[39m)][i].v * sp[(\u001b[33m\"\u001b[39m\u001b[33mflash\u001b[39m\u001b[33m\"\u001b[39m, \u001b[33m\"\u001b[39m\u001b[33miha \u001b[39m\u001b[33m\"\u001b[39m)][i].v / (np.pi*(R[i]*pc)**\u001b[32m2\u001b[39m) / \u001b[38;5;28mlen\u001b[39m(pix)\n\u001b[32m    169\u001b[39m \u001b[38;5;66;03m# column density of h2\u001b[39;00m\n\u001b[32m--> \u001b[39m\u001b[32m170\u001b[39m coldens_ih2_map[pix] += \u001b[43msp\u001b[49m\u001b[43m[\u001b[49m\u001b[43m(\u001b[49m\u001b[33;43m\"\u001b[39;49m\u001b[33;43mgas\u001b[39;49m\u001b[33;43m\"\u001b[39;49m\u001b[43m,\u001b[49m\u001b[43m \u001b[49m\u001b[33;43m\"\u001b[39;49m\u001b[33;43mcell_mass\u001b[39;49m\u001b[33;43m\"\u001b[39;49m\u001b[43m)\u001b[49m\u001b[43m]\u001b[49m[i].v * sp[(\u001b[33m\"\u001b[39m\u001b[33mflash\u001b[39m\u001b[33m\"\u001b[39m, \u001b[33m\"\u001b[39m\u001b[33mih2 \u001b[39m\u001b[33m\"\u001b[39m)][i].v / (np.pi*(R[i]*pc)**\u001b[32m2\u001b[39m) / \u001b[38;5;28mlen\u001b[39m(pix)\n\u001b[32m    171\u001b[39m \u001b[38;5;66;03m# Halpha emission luminosity RC\u001b[39;00m\n\u001b[32m    172\u001b[39m Halpha_RC_lum_map[pix] += sp[(\u001b[33m\"\u001b[39m\u001b[33mgas\u001b[39m\u001b[33m\"\u001b[39m, \u001b[33m\"\u001b[39m\u001b[33mj_halpha_RC_vol\u001b[39m\u001b[33m\"\u001b[39m)][i].v / \u001b[38;5;28mlen\u001b[39m(pix)\n",
      "\u001b[36mFile \u001b[39m\u001b[32m~/anaconda3/envs/yt/lib/python3.13/site-packages/yt/data_objects/data_containers.py:229\u001b[39m, in \u001b[36mYTDataContainer.__getitem__\u001b[39m\u001b[34m(self, key)\u001b[39m\n\u001b[32m    225\u001b[39m \u001b[38;5;28;01mdef\u001b[39;00m\u001b[38;5;250m \u001b[39m\u001b[34m__getitem__\u001b[39m(\u001b[38;5;28mself\u001b[39m, key):\n\u001b[32m    226\u001b[39m \u001b[38;5;250m    \u001b[39m\u001b[33;03m\"\"\"\u001b[39;00m\n\u001b[32m    227\u001b[39m \u001b[33;03m    Returns a single field.  Will add if necessary.\u001b[39;00m\n\u001b[32m    228\u001b[39m \u001b[33;03m    \"\"\"\u001b[39;00m\n\u001b[32m--> \u001b[39m\u001b[32m229\u001b[39m     f = \u001b[38;5;28;43mself\u001b[39;49m\u001b[43m.\u001b[49m\u001b[43m_determine_fields\u001b[49m\u001b[43m(\u001b[49m\u001b[43m[\u001b[49m\u001b[43mkey\u001b[49m\u001b[43m]\u001b[49m\u001b[43m)\u001b[49m[\u001b[32m0\u001b[39m]\n\u001b[32m    230\u001b[39m     \u001b[38;5;28;01mif\u001b[39;00m f \u001b[38;5;129;01mnot\u001b[39;00m \u001b[38;5;129;01min\u001b[39;00m \u001b[38;5;28mself\u001b[39m.field_data \u001b[38;5;129;01mand\u001b[39;00m key \u001b[38;5;129;01mnot\u001b[39;00m \u001b[38;5;129;01min\u001b[39;00m \u001b[38;5;28mself\u001b[39m.field_data:\n\u001b[32m    231\u001b[39m         \u001b[38;5;28;01mif\u001b[39;00m f \u001b[38;5;129;01min\u001b[39;00m \u001b[38;5;28mself\u001b[39m._container_fields:\n",
      "\u001b[36mFile \u001b[39m\u001b[32m~/anaconda3/envs/yt/lib/python3.13/site-packages/yt/data_objects/data_containers.py:1464\u001b[39m, in \u001b[36mYTDataContainer._determine_fields\u001b[39m\u001b[34m(self, fields)\u001b[39m\n\u001b[32m   1462\u001b[39m \u001b[38;5;28;01mdef\u001b[39;00m\u001b[38;5;250m \u001b[39m\u001b[34m_determine_fields\u001b[39m(\u001b[38;5;28mself\u001b[39m, fields):\n\u001b[32m   1463\u001b[39m     \u001b[38;5;28;01mif\u001b[39;00m \u001b[38;5;28mstr\u001b[39m(fields) \u001b[38;5;129;01min\u001b[39;00m \u001b[38;5;28mself\u001b[39m.ds._determined_fields:\n\u001b[32m-> \u001b[39m\u001b[32m1464\u001b[39m         \u001b[38;5;28;01mreturn\u001b[39;00m \u001b[38;5;28mself\u001b[39m.ds._determined_fields[\u001b[38;5;28;43mstr\u001b[39;49m\u001b[43m(\u001b[49m\u001b[43mfields\u001b[49m\u001b[43m)\u001b[49m]\n\u001b[32m   1465\u001b[39m     explicit_fields = []\n\u001b[32m   1466\u001b[39m     \u001b[38;5;28;01mfor\u001b[39;00m field \u001b[38;5;129;01min\u001b[39;00m iter_fields(fields):\n",
      "\u001b[31mKeyboardInterrupt\u001b[39m: "
     ]
    }
   ],
   "source": [
    "#um sicher zu sein\n",
    "\n",
    "file_list = [\"data/SILCC_hdf5_plt_cnt_1080\", \"data/SILCC_hdf5_plt_cnt_1140\"]\n",
    "#file_list = [\"data/SILCC_hdf5_plt_cnt_1080\"]\n",
    "names = [\"10.8Myr\", \"11.4Myr\"]\n",
    "nside = 64\n",
    "radius = 80\n",
    "odir = \".\"  \n",
    "odir_data = odir  \n",
    "\n",
    "radius_str = str(int(radius)).zfill(4)\n",
    "file_suffix = f\"r{radius_str}_RC\"\n",
    "print(file_suffix)\n",
    "\n",
    "# numerical parameters for healpix\n",
    "cx = -80.\n",
    "cy = -150.\n",
    "cz = 0.0\n",
    "c = ([cx, cy, cz], \"pc\")          # new yt version\n",
    "c = [cx*pc, cy*pc, cz*pc] # old yt version\n",
    "print(\"center of the bubble at (pc) :\", cx, cy, cz)\n",
    "\n",
    "# emissivity Halpha \n",
    "def _j_halpha_R(field, data):\n",
    "    T = data[(\"gas\", \"temperature\")].v\n",
    "    T4 = T / 1e4\n",
    "    number_density = data[(\"gas\", \"number_density\")].v\n",
    "    ion_fraction = data[(\"flash\", \"ihp \")].v\n",
    "    ne_np = (number_density * ion_fraction) ** 2\n",
    "    return 2.82e-26 * (T4 ** (-0.942 - 0.03 * np.log(T4))) * ne_np * erg / cm**3 / s \n",
    "\n",
    "def _j_halpha_C(field, data):\n",
    "    T = data[(\"gas\", \"temperature\")].v\n",
    "    number_density = data[(\"gas\", \"number_density\")].v\n",
    "    ion_fraction = data[(\"flash\", \"ihp \")].v\n",
    "    Ha_fraction = data[(\"flash\", \"iha \")]\n",
    "    ne = number_density * ion_fraction\n",
    "    nH = number_density * Ha_fraction\n",
    "        \n",
    "    def lambda_13(T):\n",
    "        if 4000 <= T <= 25000:\n",
    "            return 0.35 - 2.62e-7*T - 8.15e-11*T**2 + 6.19e-15*T**3\n",
    "        elif 25000 < T <= 500000:\n",
    "            return 0.276 + 4.99e-6*T - 8.85e-12*T**2 + 7.18e-18*T**3\n",
    "        elif T < 4000:\n",
    "            T = 4000\n",
    "            return 0.35 - 2.62e-7*T - 8.15e-11*T**2 + 6.19e-15*T**3\n",
    "        elif T > 500000: \n",
    "            T = 500000\n",
    "            return 0.276 + 4.99e-6*T - 8.85e-12*T**2 + 7.18e-18*T**3\n",
    "    \n",
    "    lambda_13_vec = np.vectorize(lambda_13)\n",
    "    return (1.30e-17 / (4 * np.pi)) * (lambda_13_vec(T) / np.sqrt(T)) * np.exp(-12.1 * eV / kB /  T) * ne * nH * erg / cm**3 / s \n",
    "\n",
    "def _j_halpha_RC(field, data):\n",
    "    j_halpha_R = data[(\"gas\", \"j_halpha_R\")]\n",
    "    j_halpha_C = data[(\"gas\", \"j_halpha_C\")]\n",
    "    return (j_halpha_R + j_halpha_C) \n",
    "\n",
    "def _j_halpha_RC_vol(field, data):\n",
    "    j_halpha_RC = data[(\"gas\", \"j_halpha_RC\")]\n",
    "    cell_volume = data[(\"gas\", \"cell_volume\")]\n",
    "    return j_halpha_RC * cell_volume\n",
    "\n",
    "def _j_halpha_R_vol(field, data):\n",
    "    j_halpha_R = data[(\"gas\", \"j_halpha_R\")]\n",
    "    cell_volume = data[(\"gas\", \"cell_volume\")]\n",
    "    return j_halpha_R * cell_volume\n",
    "\n",
    "def _j_halpha_C_vol(field, data):\n",
    "    j_halpha_C = data[(\"gas\", \"j_halpha_C\")]\n",
    "    cell_volume = data[(\"gas\", \"cell_volume\")]\n",
    "    return j_halpha_C * cell_volume\n",
    "\n",
    "# loop over all files\n",
    "for files in file_list:\n",
    "    print(\"processing file\", files)\n",
    "    ds = yt.load(files)\n",
    "    yt.add_field((\"gas\", \"j_halpha_R\"), function=_j_halpha_R, units=\"erg/(cm**3*s)\", sampling_type=\"cell\")\n",
    "    yt.add_field((\"gas\", \"j_halpha_C\"), function=_j_halpha_C, units=\"erg/(cm**3*s)\", sampling_type=\"cell\")\n",
    "    yt.add_field((\"gas\", \"j_halpha_RC\"), function=_j_halpha_RC, units=\"erg/(cm**3*s)\", sampling_type=\"cell\")\n",
    "    yt.add_field((\"gas\", \"j_halpha_RC_vol\"), function=_j_halpha_RC_vol, units=\"erg/s\", sampling_type=\"cell\")\n",
    "    yt.add_field((\"gas\", \"j_halpha_R_vol\"), function=_j_halpha_R_vol, units=\"erg/s\", sampling_type=\"cell\")\n",
    "    yt.add_field((\"gas\", \"j_halpha_C_vol\"), function=_j_halpha_C_vol, units=\"erg/s\", sampling_type=\"cell\")\n",
    "   \n",
    "    # select the region around the bubble\n",
    "    sp = ds.sphere(c, (radius, \"pc\"))\n",
    "    \n",
    "    print()\n",
    "    print(\"min and max positions of the selected region\")\n",
    "    print(\"min/max x (pc): \", np.min(sp[(\"gas\", \"x\")].in_units(\"pc\").v), np.max(sp[(\"gas\", \"x\")].in_units(\"pc\").v))\n",
    "    print(\"min/max y (pc): \", np.min(sp[(\"gas\", \"y\")].in_units(\"pc\").v), np.max(sp[(\"gas\", \"y\")].in_units(\"pc\").v))\n",
    "    print(\"min/max z (pc): \", np.min(sp[(\"gas\", \"z\")].in_units(\"pc\").v), np.max(sp[(\"gas\", \"z\")].in_units(\"pc\").v))\n",
    "\n",
    "    # box size in pc\n",
    "    Lx = ds.domain_width[0].in_units(\"pc\").v\n",
    "    Ly = ds.domain_width[1].in_units(\"pc\").v\n",
    "    Lz = ds.domain_width[2].in_units(\"pc\").v\n",
    "\n",
    "    # find coordinates with respect to the center of the sphere taking into account periodic boundaries in x and y\n",
    "    posx_ctr = (sp[(\"gas\", \"x\")].in_units(\"pc\").v - cx + Lx/2.) % Lx - Lx/2.\n",
    "    posy_ctr = (sp[(\"gas\", \"y\")].in_units(\"pc\").v - cy + Ly/2.) % Ly - Ly/2.\n",
    "    posz_ctr =  sp[(\"gas\", \"z\")].in_units(\"pc\").v - cz\n",
    "    print()\n",
    "    print(\"min and max positions of the selected region - shifted to center of the sphere\")\n",
    "    print(\"min/max x (pc): \", np.min(posx_ctr), np.max(posx_ctr))\n",
    "    print(\"min/max y (pc): \", np.min(posy_ctr), np.max(posy_ctr))\n",
    "    print(\"min/max z (pc): \", np.min(posz_ctr), np.max(posz_ctr))\n",
    "    # radius based on centre of mass\n",
    "    rad_ctr = np.sqrt(posx_ctr**2 + posy_ctr**2 + posz_ctr**2)\n",
    "    # print min max of radius\n",
    "    print()\n",
    "    print(\"min/max r (pc): \", np.min(rad_ctr), np.max(rad_ctr))\n",
    "\n",
    "    # cell volume\n",
    "    volu = sp[(\"gas\", \"cell_volume\")].in_units(\"pc**3\").v\n",
    "\n",
    "    # create normal vectors for the healpix map\n",
    "    vec_norm_x = posx_ctr / rad_ctr\n",
    "    vec_norm_y = posy_ctr / rad_ctr\n",
    "    vec_norm_z = posz_ctr / rad_ctr\n",
    "\n",
    "    # compute angular size of all cells at the respective distance to the observer\n",
    "    R = (3 * volu / (4 * np.pi))**(1./3.)\n",
    "    dx = np.power(volu, 1./3.)\n",
    "\n",
    "    # compute the angle of the cell with respect to the observer    \n",
    "    angle = np.arctan2(R, rad_ctr)\n",
    "\n",
    "    # number of cells\n",
    "    Ncell = rad_ctr.size\n",
    "\n",
    "    print()\n",
    "    # create three healpix maps\n",
    "    NPIX = hp.nside2npix(nside)\n",
    "    print(\"create healpix maps for various quantities with nside\", nside, \"and NPIX\", NPIX)\n",
    "    coldens_map     = np.zeros(NPIX) # column density\n",
    "    coldens_ihp_map = np.zeros(NPIX) # column density (ionized gas)\n",
    "    coldens_iha_map = np.zeros(NPIX) # column density (neutral gas)\n",
    "    coldens_ih2_map = np.zeros(NPIX) # column density (molecular gas)\n",
    "    Halpha_RC_lum_map  = np.zeros(NPIX) # Halpha emission luminosity\n",
    "    #Halpha_R_lum_map = np.zeros(NPIX)\n",
    "    #Halpha_C_lum_map = np.zeros(NPIX)\n",
    "    Halpha_RC_flux_map = np.zeros(NPIX) # Halpha emission flux\n",
    "    Halpha_R_flux_map = np.zeros(NPIX) \n",
    "    Halpha_C_flux_map = np.zeros(NPIX)\n",
    "    frac_ihp_map = np.zeros(NPIX) \n",
    "    frac_iha_map = np.zeros(NPIX) \n",
    "    frac_ih2_map = np.zeros(NPIX) \n",
    "    \n",
    "    total_mass = 0.0\n",
    "    total_volu = 0.0\n",
    "    total_halpha_RC = 0.0\n",
    "    total_halpha_R = 0.0\n",
    "    total_halpha_C = 0.0\n",
    "\n",
    "    print()\n",
    "    for i in tqdm(range(Ncell)):\n",
    "\n",
    "        # find the pixels in the healpix map\n",
    "        pix = hp.query_disc(nside, [vec_norm_x[i], vec_norm_y[i], vec_norm_z[i]], angle[i], inclusive=True)\n",
    "\n",
    "        # total column density\n",
    "        coldens_map[pix]   += sp[(\"gas\", \"cell_mass\")][i].v / (np.pi*(R[i]*pc)**2) / len(pix)\n",
    "        # column density of ionized gas\n",
    "        coldens_ihp_map[pix] += sp[(\"gas\", \"cell_mass\")][i].v * sp[(\"flash\", \"ihp \")][i].v / (np.pi*(R[i]*pc)**2) / len(pix)\n",
    "        # column density of atomic h\n",
    "        coldens_iha_map[pix] += sp[(\"gas\", \"cell_mass\")][i].v * sp[(\"flash\", \"iha \")][i].v / (np.pi*(R[i]*pc)**2) / len(pix)\n",
    "        # column density of h2\n",
    "        coldens_ih2_map[pix] += sp[(\"gas\", \"cell_mass\")][i].v * sp[(\"flash\", \"ih2 \")][i].v / (np.pi*(R[i]*pc)**2) / len(pix)\n",
    "        # Halpha emission luminosity RC\n",
    "        Halpha_RC_lum_map[pix] += sp[(\"gas\", \"j_halpha_RC_vol\")][i].v / len(pix)\n",
    "        # Halpha flux RC\n",
    "        Halpha_RC_flux_map[pix] += sp[(\"gas\", \"j_halpha_RC_vol\")][i].v / (4 * np.pi*(R[i]*pc)**2) \n",
    "        # Halpha flux R\n",
    "        Halpha_R_flux_map[pix] += sp[(\"gas\", \"j_halpha_R_vol\")][i].v / (4 * np.pi*(R[i]*pc)**2) \n",
    "        # Halpha flux C\n",
    "        Halpha_C_flux_map[pix] += sp[(\"gas\", \"j_halpha_C_vol\")][i].v / (4 * np.pi*(R[i]*pc)**2) \n",
    "        \n",
    "        total_halpha_RC += sp[(\"gas\", \"j_halpha_RC_vol\")][i].v \n",
    "        total_halpha_R += sp[(\"gas\", \"j_halpha_R_vol\")][i].v \n",
    "        total_halpha_C += sp[(\"gas\", \"j_halpha_C_vol\")][i].v \n",
    "        total_mass += sp[(\"gas\", \"cell_mass\")][i].v\n",
    "        total_volu += volu[i]\n",
    "\n",
    "    print()\n",
    "\n",
    "    sum_halpha_RC = np.sum(Halpha_RC_lum_map)\n",
    "    print(\"sum_halpha_RC:\", sum_halpha_RC)\n",
    "    \n",
    "    #frac ihp\n",
    "    frac_ihp_map = coldens_ihp_map / coldens_map\n",
    "    #frac iha\n",
    "    frac_iha_map = coldens_iha_map / coldens_map\n",
    "    #frac ih2\n",
    "    frac_ih2_map = coldens_ih2_map / coldens_map\n",
    "\n",
    "    print()\n",
    "    print(\"done with the loop over cells, make plots and write data to disk\")\n",
    "\n",
    "    # prepare the data field to write to disk\n",
    "    data = {}\n",
    "\n",
    "    data[\"simtime\"] = ds.current_time.v\n",
    "    data[\"simtime_Myr\"] = ds.current_time.in_units(\"Myr\").v\n",
    "\n",
    "    for name, field, norm, unit, vmin, vmax in zip([\"Column density\", \"Column density ihp\", \"Column density iha\", \"Column density ih2\", \"Halpha_RC luminosity\", \"Halpha_RC flux\", \"Halpha_R flux\", \"Halpha_C flux\", \"Fraction ihp\", \"Fraction iha\", \"Fraction ih2\"],\n",
    "    [coldens_map, coldens_ihp_map, coldens_iha_map, coldens_ih2_map, Halpha_RC_lum_map, Halpha_RC_flux_map, Halpha_R_flux_map, Halpha_C_flux_map, frac_ihp_map, frac_iha_map, frac_ih2_map],\n",
    "    [True, True, True, True, True, True, True, True, True, True, True],\n",
    "    [\"g/cm**2\", \"g/cm**2\", \"g/cm**2\", \"g/cm**2\", \"erg/s\", \"erg/s/cm**2\", \"erg/s/cm**2\", \"erg/s/cm**2\", \"\", \"\", \"\"],\n",
    "    [-8, -8, -11, -18, 31.7, -13.6, -13.8, -18.2, -3.8, -7.7, -10],\n",
    "    [-2.1, -3.9, -2.3, -2.7, 34.6, -5.9, -6, -6.4,  0, 0, -0.55]):\n",
    "        \n",
    "        # create a mollweide projection for all fields\n",
    "        fig = plt.figure(figsize=(10, 5))\n",
    "        if norm:\n",
    "            plt_field = np.log10(field).copy()\n",
    "            unit_label = f\"log10({unit})\" if unit else \"log10\"\n",
    "        else:\n",
    "            plt_field = field.copy()\n",
    "\n",
    "        #hp.mollview(plt_field, return_projected_map=True, title=name, cbar=False)\n",
    "\n",
    "        #hp.mollview(plt_field, return_projected_map=True, title=f\"{name} {names[file_list.index(files)]}\", cbar=False, vmin=  , vmax= )\n",
    "        #hp.graticule()        \n",
    "        projview(\n",
    "            plt_field,\n",
    "            coord=[\"G\"],\n",
    "            graticule=True,\n",
    "            graticule_labels=True,\n",
    "            unit=f\"{name} [{unit_label}]\",\n",
    "            xlabel=\"Longitude\",\n",
    "            ylabel=\"Latitude\",\n",
    "            cb_orientation=\"vertical\",\n",
    "            min=vmin,  \n",
    "            max=vmax,\n",
    "            #min=np.min(plt_field),\n",
    "            #max=np.max(plt_field),\n",
    "            latitude_grid_spacing=45,\n",
    "            projection_type=\"mollweide\",\n",
    "            title=f\"{name} {names[file_list.index(files)]}\",\n",
    "            flip=\"geo\",\n",
    "            phi_convention=\"clockwise\")\n",
    "\n",
    "        #ax = plt.gca()\n",
    "        #image = ax.get_images()[0]\n",
    "        #cbar = fig.colorbar(image, ax=ax, orientation='vertical', shrink=0.8)\n",
    "        #cbar.set_label(f\"{name} [{unit_label}]\", rotation=270, labelpad=20)\n",
    "        #cbar.set_label(name, rotation=270, labelpad=20)\n",
    "        plt.savefig(f'{odir}/{files}-{file_suffix}-{name}.pdf', bbox_inches=\"tight\")\n",
    "        plt.close()\n",
    "\n",
    "        # dave the data in global dictionary\n",
    "        data[name] = field\n",
    "\n",
    "    # add global quantities to the data dictionary\n",
    "    data[\"total_mass\"] = total_mass\n",
    "    data[\"total_volu\"] = total_volu\n",
    "    data[\"total_Halpha_RC\"] = total_halpha_RC\n",
    "    data[\"total_Halpha_R\"] = total_halpha_R\n",
    "    data[\"total_Halpha_C\"] = total_halpha_C\n",
    "\n",
    "    # write data to disk using pickle\n",
    "    with open(f\"{odir_data}/{files}-{file_suffix}-data.pkl\", \"wb\") as f:\n",
    "        pickle.dump(data, f)\n"
   ]
  },
  {
   "cell_type": "code",
   "execution_count": null,
   "id": "f86c2a11-4519-4542-b604-f01e5a342a62",
   "metadata": {},
   "outputs": [],
   "source": []
  }
 ],
 "metadata": {
  "kernelspec": {
   "display_name": "yt",
   "language": "python",
   "name": "yt"
  },
  "language_info": {
   "codemirror_mode": {
    "name": "ipython",
    "version": 3
   },
   "file_extension": ".py",
   "mimetype": "text/x-python",
   "name": "python",
   "nbconvert_exporter": "python",
   "pygments_lexer": "ipython3",
   "version": "3.13.2"
  }
 },
 "nbformat": 4,
 "nbformat_minor": 5
}
